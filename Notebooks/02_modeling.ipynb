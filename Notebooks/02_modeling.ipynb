{
 "cells": [
  {
   "cell_type": "markdown",
   "id": "f9f9a8cd",
   "metadata": {},
   "source": [
    "# **Notebook 02: Modeling Calories Burned**\n",
    "\n",
    "![alt text](..\\Utils\\img.webp)\n",
    "\n",
    "## **Problem Statement:**\n",
    "\n",
    "#### > Can we predict the number of calories lossed during a workout?\n",
    "\n",
    "## **Data:**\n",
    "\n",
    "#### > Calorie data obtained from the *Predict Calorie Expenditure* Kaggle Competition https://www.kaggle.com/competitions/playground-series-s5e5/overview\n",
    "\n",
    "## **Overview:**\n",
    "**1. Import Packages**    \n",
    "**2. Load Stratified Train and Test Data**   \n",
    "**3. Preprocess Data**\n",
    "* 3.1 Build Pipeline\n",
    "    * Feature Engineering\n",
    "        * Body Mass Index (BMI)\n",
    "        * Basal Metabolic Rate (BMR)\n",
    "        * Original Features (Age)\n",
    "        * Polynomial Features/ Interactions \n",
    "            * Duration Heart_Rate\n",
    "            * Duration^2 \n",
    "            * Duration Body_Temp \n",
    "            * Heart_Rate Body_Temp \n",
    "            * Heart_Rate^2 \n",
    "            * Body_Temp^2 \n",
    "    * Feature Scaling\n",
    "    * Regression Modeling\n",
    "\n",
    "**4. Regression Modeling**\n",
    "* 4.1 Baseline Models\n",
    "    * Define Models (tree based models to avoid multicollinearity challenges)\n",
    "        * Decision Tree Regressor\n",
    "        * Random Forest Regressor\n",
    "        * XGBoost\n",
    "        * Catboost\n",
    "* 4.2 Model Selection\n",
    "* 4.3 Hyperparameter Tuning\n",
    "* 4.4 Learning Curve Analysis: Bias/Variance Tradeoff\n",
    "* 4.5 Final Model\n",
    "* 4.6 Evaluate Model Performance\n",
    "* 4.7 Kaggle Predictions\n",
    "\n",
    "**5. Save and Document Model**\n",
    "* 5.1 Save the Final Pipeline\n",
    "* 5.2 Document:\n",
    "    * Best hyperparameters\n",
    "    * Model Type\n",
    "    * Evaluation Metrics\n",
    "    * Preprocessing steps"
   ]
  },
  {
   "cell_type": "markdown",
   "id": "1343aeb3",
   "metadata": {},
   "source": [
    "### **1. Import Packages**"
   ]
  },
  {
   "cell_type": "code",
   "execution_count": null,
   "id": "0f32260d",
   "metadata": {},
   "outputs": [],
   "source": [
    "# Import packages\n",
    "\n",
    "# === Standard Library ===\n",
    "import json\n",
    "\n",
    "# === Data Manipulation ===\n",
    "import pandas as pd \n",
    "import numpy as np\n",
    "\n",
    "# === Visualization ===\n",
    "import matplotlib.pyplot as plt\n",
    "\n",
    "# === Preprocessing & Feature Engineering ===\n",
    "from sklearn.pipeline import Pipeline \n",
    "from sklearn.pipeline import make_pipeline\n",
    "from sklearn.compose import ColumnTransformer\n",
    "from sklearn.preprocessing import StandardScaler, PolynomialFeatures\n",
    "\n",
    "# === Feature Engineering ===\n",
    "#from sklearn.base import BaseEstimator, TransformerMixin\n",
    "from Utils.feature_engineering import FeatureEngineering\n",
    "\n",
    "# === Model Selection ===\n",
    "from sklearn.model_selection import (\n",
    "    train_test_split,\n",
    "    cross_val_score,\n",
    "    GridSearchCV,\n",
    "    learning_curve,\n",
    ")\n",
    "\n",
    "# === Evaluation Metrics ===\n",
    "from sklearn.metrics import mean_squared_log_error, make_scorer\n",
    "\n",
    "# === Regression Models ===\n",
    "from sklearn.tree import DecisionTreeRegressor\n",
    "from xgboost import XGBRegressor\n",
    "from sklearn.ensemble import RandomForestRegressor\n",
    "from catboost import CatBoostRegressor\n",
    "\n",
    "# === Model Persistence ===\n",
    "import joblib"
   ]
  },
  {
   "cell_type": "markdown",
   "id": "726f518c",
   "metadata": {},
   "source": [
    "### **2. Load Stratified Train and Test Data**"
   ]
  },
  {
   "cell_type": "code",
   "execution_count": 2,
   "id": "634e6694",
   "metadata": {},
   "outputs": [
    {
     "name": "stdout",
     "output_type": "stream",
     "text": [
      "Training set loaded with 585,749 rows and 8 columns.\n"
     ]
    },
    {
     "data": {
      "text/html": [
       "<div>\n",
       "<style scoped>\n",
       "    .dataframe tbody tr th:only-of-type {\n",
       "        vertical-align: middle;\n",
       "    }\n",
       "\n",
       "    .dataframe tbody tr th {\n",
       "        vertical-align: top;\n",
       "    }\n",
       "\n",
       "    .dataframe thead th {\n",
       "        text-align: right;\n",
       "    }\n",
       "</style>\n",
       "<table border=\"1\" class=\"dataframe\">\n",
       "  <thead>\n",
       "    <tr style=\"text-align: right;\">\n",
       "      <th></th>\n",
       "      <th>Sex</th>\n",
       "      <th>Age</th>\n",
       "      <th>Height</th>\n",
       "      <th>Weight</th>\n",
       "      <th>Duration</th>\n",
       "      <th>Heart_Rate</th>\n",
       "      <th>Body_Temp</th>\n",
       "      <th>Calories</th>\n",
       "    </tr>\n",
       "  </thead>\n",
       "  <tbody>\n",
       "    <tr>\n",
       "      <th>0</th>\n",
       "      <td>female</td>\n",
       "      <td>63</td>\n",
       "      <td>164.0</td>\n",
       "      <td>63.0</td>\n",
       "      <td>20.0</td>\n",
       "      <td>98.0</td>\n",
       "      <td>40.5</td>\n",
       "      <td>118.0</td>\n",
       "    </tr>\n",
       "    <tr>\n",
       "      <th>1</th>\n",
       "      <td>female</td>\n",
       "      <td>73</td>\n",
       "      <td>171.0</td>\n",
       "      <td>73.0</td>\n",
       "      <td>11.0</td>\n",
       "      <td>90.0</td>\n",
       "      <td>39.9</td>\n",
       "      <td>55.0</td>\n",
       "    </tr>\n",
       "    <tr>\n",
       "      <th>2</th>\n",
       "      <td>female</td>\n",
       "      <td>21</td>\n",
       "      <td>158.0</td>\n",
       "      <td>62.0</td>\n",
       "      <td>3.0</td>\n",
       "      <td>94.0</td>\n",
       "      <td>39.0</td>\n",
       "      <td>16.0</td>\n",
       "    </tr>\n",
       "    <tr>\n",
       "      <th>3</th>\n",
       "      <td>male</td>\n",
       "      <td>27</td>\n",
       "      <td>190.0</td>\n",
       "      <td>88.0</td>\n",
       "      <td>2.0</td>\n",
       "      <td>85.0</td>\n",
       "      <td>38.3</td>\n",
       "      <td>7.0</td>\n",
       "    </tr>\n",
       "    <tr>\n",
       "      <th>4</th>\n",
       "      <td>female</td>\n",
       "      <td>68</td>\n",
       "      <td>174.0</td>\n",
       "      <td>65.0</td>\n",
       "      <td>14.0</td>\n",
       "      <td>96.0</td>\n",
       "      <td>40.4</td>\n",
       "      <td>79.0</td>\n",
       "    </tr>\n",
       "  </tbody>\n",
       "</table>\n",
       "</div>"
      ],
      "text/plain": [
       "      Sex  Age  Height  Weight  Duration  Heart_Rate  Body_Temp  Calories\n",
       "0  female   63   164.0    63.0      20.0        98.0       40.5     118.0\n",
       "1  female   73   171.0    73.0      11.0        90.0       39.9      55.0\n",
       "2  female   21   158.0    62.0       3.0        94.0       39.0      16.0\n",
       "3    male   27   190.0    88.0       2.0        85.0       38.3       7.0\n",
       "4  female   68   174.0    65.0      14.0        96.0       40.4      79.0"
      ]
     },
     "execution_count": 2,
     "metadata": {},
     "output_type": "execute_result"
    }
   ],
   "source": [
    "# === Load data === \n",
    "train_path = \"strat_train_set.csv\"\n",
    "test_path = \"strat_test_set.csv\"\n",
    "\n",
    "strat_train_set = pd.read_csv(train_path)\n",
    "strat_test_set = pd.read_csv(test_path)\n",
    "\n",
    "# === Basic Info ===\n",
    "num_train_instances = strat_train_set.shape[0]\n",
    "print(f\"Training set loaded with {num_train_instances:,} rows and {strat_train_set.shape[1]} columns.\")\n",
    "strat_train_set.head()"
   ]
  },
  {
   "cell_type": "code",
   "execution_count": 3,
   "id": "74501159",
   "metadata": {},
   "outputs": [],
   "source": [
    "# Separation of features and target\n",
    "X_train = strat_train_set.drop(\"Calories\", axis=1)\n",
    "y_train = strat_train_set[\"Calories\"]\n",
    "\n",
    "X_test = strat_test_set.drop(\"Calories\", axis=1)\n",
    "y_test = strat_test_set[\"Calories\"]"
   ]
  },
  {
   "cell_type": "markdown",
   "id": "d7371272",
   "metadata": {},
   "source": [
    "### **3. Preprocess Data**"
   ]
  },
  {
   "cell_type": "markdown",
   "id": "14126377",
   "metadata": {},
   "source": [
    "#### **3.1 Build Pipeline**"
   ]
  },
  {
   "cell_type": "code",
   "execution_count": 4,
   "id": "6a2257b7",
   "metadata": {},
   "outputs": [],
   "source": [
    "# Create pipeline \n",
    "def build_pipeline(model):\n",
    "    # Pipeline to create features, scale, and apply model\n",
    "    pipeline = Pipeline([\n",
    "    (\"feature_engineering\", FeatureEngineering()),\n",
    "    (\"scaler\", StandardScaler()),\n",
    "    (\"model\", model)\n",
    "    ])\n",
    "    return pipeline"
   ]
  },
  {
   "cell_type": "markdown",
   "id": "3e2913bc",
   "metadata": {},
   "source": [
    "### **4. Regression Modeling**"
   ]
  },
  {
   "cell_type": "markdown",
   "id": "fa82740d",
   "metadata": {},
   "source": [
    "#### **4.1 Baseline Models**"
   ]
  },
  {
   "cell_type": "code",
   "execution_count": 5,
   "id": "42975510",
   "metadata": {},
   "outputs": [
    {
     "name": "stdout",
     "output_type": "stream",
     "text": [
      "Decision Tree: Mean RMSLE = 0.1447 (± 0.0006)\n",
      "Random Forest: Mean RMSLE = 0.0620 (± 0.0005)\n",
      "XGBoost: Mean RMSLE = 0.0893 (± 0.0017)\n",
      "CatBoost: Mean RMSLE = 0.0724 (± 0.0009)\n"
     ]
    }
   ],
   "source": [
    "# Create Baseline Models\n",
    "models = {\n",
    "    \"Decision Tree\": DecisionTreeRegressor(max_depth=5, random_state=42),\n",
    "    \"Random Forest\": RandomForestRegressor(n_estimators=100, random_state=42, n_jobs=-1),\n",
    "    \"XGBoost\": XGBRegressor(n_estimators=100, max_depth=3, learning_rate=0.1, random_state=42, n_jobs=-1, verbosity=0),\n",
    "    \"CatBoost\": CatBoostRegressor(iterations=100, depth=6, learning_rate=0.1, random_seed=42, verbose=0)\n",
    "}\n",
    "\n",
    "# Define RMSLE scorer\n",
    "def rmsle(y_true, y_pred):\n",
    "    return np.sqrt(mean_squared_log_error(y_true, y_pred))\n",
    "rmsle_scorer = make_scorer(rmsle, greater_is_better=False)\n",
    "\n",
    "# Build and evaluate pipelines\n",
    "pipelines = {name: build_pipeline(model) for name, model in models.items()}\n",
    "\n",
    "for name, pipeline in pipelines.items():\n",
    "    scores = cross_val_score(pipeline, X_train, y_train, cv=5, scoring=rmsle_scorer)\n",
    "    print(f\"{name}: Mean RMSLE = {-scores.mean():.4f} (± {scores.std():.4f})\")"
   ]
  },
  {
   "cell_type": "markdown",
   "id": "5377208e",
   "metadata": {},
   "source": [
    "#### **4.2 Model Selection**"
   ]
  },
  {
   "cell_type": "markdown",
   "id": "bb455391",
   "metadata": {},
   "source": [
    "\n",
    "RandomForest is the best performing model as it has the lowest RMSLE score (.0620). However, we will model with CatBoost because it has the second lowest RMSLE (.0724) and will enable us to leverage the power of gpu."
   ]
  },
  {
   "cell_type": "markdown",
   "id": "ed97af3e",
   "metadata": {},
   "source": [
    "#### **4.3 Hyperparameter Tuning**"
   ]
  },
  {
   "cell_type": "code",
   "execution_count": 10,
   "id": "8177fcbe",
   "metadata": {},
   "outputs": [
    {
     "name": "stdout",
     "output_type": "stream",
     "text": [
      "Fitting 3 folds for each of 4 candidates, totalling 12 fits\n",
      "0:\tlearn: 58.8030266\ttotal: 82.8ms\tremaining: 3m 27s\n",
      "2:\tlearn: 53.2306810\ttotal: 104ms\tremaining: 1m 26s\n",
      "4:\tlearn: 48.2044987\ttotal: 125ms\tremaining: 1m 2s\n",
      "6:\tlearn: 43.6702040\ttotal: 146ms\tremaining: 52.1s\n",
      "8:\tlearn: 39.5779578\ttotal: 168ms\tremaining: 46.5s\n",
      "10:\tlearn: 35.8685655\ttotal: 189ms\tremaining: 42.8s\n",
      "...LOTS OF LINES..."
      "Best CatBoost Parameters: {'model__border_count': 256, 'model__depth': 14, 'model__iterations': 2500, 'model__l2_leaf_reg': 5, 'model__learning_rate': 0.05}\n"
     ]
    }
   ],
   "source": [
    "# Define the model with GPU support\n",
    "catboost_gpu_model = CatBoostRegressor(\n",
    "    task_type=\"GPU\",\n",
    "    devices=\"0\",\n",
    "    verbose=2,\n",
    "    random_seed=42\n",
    ")\n",
    "\n",
    "# Create Pipeline\n",
    "pipeline = build_pipeline(catboost_gpu_model)\n",
    "\n",
    "# Define param grid\n",
    "catboost_param_grid = {\n",
    "    \"model__iterations\": [2500, 3000],\n",
    "    \"model__depth\": [12, 14],\n",
    "    \"model__learning_rate\": [0.05],\n",
    "    \"model__l2_leaf_reg\": [5],\n",
    "    \"model__border_count\": [256],\n",
    "}\n",
    "\n",
    "# Apply Grid Search\n",
    "catboost_grid_search = GridSearchCV(\n",
    "    estimator=pipeline,\n",
    "    param_grid=catboost_param_grid,\n",
    "    cv=3,\n",
    "    scoring=rmsle_scorer,\n",
    "    verbose=2,\n",
    "    n_jobs=1\n",
    ")\n",
    "\n",
    "# Fit Model\n",
    "catboost_grid_search.fit(X_train, y_train)\n",
    "\n",
    "# Retreive Best Model\n",
    "best_catboost_model = catboost_grid_search.best_estimator_\n",
    "print(\"Best CatBoost Parameters:\", catboost_grid_search.best_params_)"
   ]
  },
  {
   "cell_type": "code",
   "execution_count": null,
   "id": "9f18333f",
   "metadata": {},
   "outputs": [
    {
     "name": "stdout",
     "output_type": "stream",
     "text": [
      "Train RMSLE: 0.0534\n"
     ]
    }
   ],
   "source": [
    "# Train Error\n",
    "y_train_pred = catboost_grid_search.best_estimator_.predict(X_train)\n",
    "train_rmsle = rmsle(y_train, y_train_pred)\n",
    "print(f\"Train RMSLE: {train_rmsle:.4f}\")"
   ]
  },
  {
   "cell_type": "markdown",
   "id": "ccce5762",
   "metadata": {},
   "source": [
    "#### **4.4 Assess Bias/Variance Tradeoff**"
   ]
  },
  {
   "cell_type": "code",
   "execution_count": 12,
   "id": "1c5df999",
   "metadata": {},
   "outputs": [
    {
     "name": "stdout",
     "output_type": "stream",
     "text": [
      "[learning_curve] Training set sizes: [ 39049  78099 117149 156199 195249 234299 273349 312399 351449 390499]\n"
     ]
    },
    {
     "data": {
      "image/png": "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",
      "text/plain": [
       "<Figure size 1000x600 with 1 Axes>"
      ]
     },
     "metadata": {},
     "output_type": "display_data"
    }
   ],
   "source": [
    "# Clean best params from GridSearchCV keys\n",
    "best_params = catboost_grid_search.best_params_\n",
    "clean_params = {k.replace(\"model__\", \"\"): v for k, v in best_params.items()}\n",
    "\n",
    "# Instantiate CatBoost with GPU and best params\n",
    "best_catboost_model = CatBoostRegressor(\n",
    "    task_type=\"GPU\",\n",
    "    devices=\"0\",\n",
    "    verbose=0,\n",
    "    random_seed=42,\n",
    "    **clean_params\n",
    ")\n",
    "\n",
    "# Build pipeline using your function\n",
    "learning_curve_pipeline = build_pipeline(best_catboost_model)\n",
    "\n",
    "# Generate learning curve\n",
    "train_sizes, train_scores, val_scores = learning_curve(\n",
    "    estimator=learning_curve_pipeline,\n",
    "    X=X_train,\n",
    "    y=y_train,\n",
    "    scoring=rmsle_scorer,\n",
    "    train_sizes=np.linspace(0.1, 1.0, 10),\n",
    "    cv=3,\n",
    "    shuffle=True,\n",
    "    random_state=42,\n",
    "    n_jobs=1,\n",
    "    verbose=1\n",
    ")\n",
    "\n",
    "# Convert scores back to positive RMSLE\n",
    "train_rmsle = -np.mean(train_scores, axis=1)\n",
    "val_rmsle = -np.mean(val_scores, axis=1)\n",
    "\n",
    "# Plot\n",
    "plt.figure(figsize=(10, 6))\n",
    "plt.plot(train_sizes, train_rmsle, \"o-\", label=\"Train RMSLE\")\n",
    "plt.plot(train_sizes, val_rmsle, \"o-\", label=\"Validation RMSLE\")\n",
    "plt.xlabel(\"Training Set Size\")\n",
    "plt.ylabel(\"RMSLE\")\n",
    "plt.title(\"Learning Curve - CatBoost Regressor\")\n",
    "plt.legend()\n",
    "plt.grid(True)\n",
    "plt.show()"
   ]
  },
  {
   "cell_type": "code",
   "execution_count": 14,
   "id": "32ac6fec",
   "metadata": {},
   "outputs": [
    {
     "data": {
      "image/png": "iVBORw0KGgoAAAANSUhEUgAAA2EAAAIhCAYAAADHI7LnAAAAOnRFWHRTb2Z0d2FyZQBNYXRwbG90bGliIHZlcnNpb24zLjEwLjAsIGh0dHBzOi8vbWF0cGxvdGxpYi5vcmcvlHJYcgAAAAlwSFlzAAAPYQAAD2EBqD+naQAAfZRJREFUeJzt3Xl8TFfjx/HvZLLLgiALQuw0lqKU1taWWEuXp9qiFG1RVdTT1tIqfUoX+uiGX1tLdUFbunsQXdCiWktrq2obS0moWIJIMsnc3x9JhkkmkpDcGXzer9e8MnPuufeee09G8+05c8ZiGIYhAAAAAIApvNzdAAAAAAC4mhDCAAAAAMBEhDAAAAAAMBEhDAAAAABMRAgDAAAAABMRwgAAAADARIQwAAAAADARIQwAAAAATEQIAwAAAAATEcIAXNbmz58vi8Win3/+2d1NKbb27durffv2bju/3W7Xu+++q1tuuUUVKlSQj4+PKlWqpO7du+uLL76Q3W53W9vMlJKSoueee07NmzdXSEiI/Pz8VL16dQ0cOFCbN28u9vEOHTqkZ555Rlu3bs237ZlnnpHFYnE8vLy8FBkZqa5du+qHH34ogau5NBdquyvfffed0/VYrVZVrFhRPXr0uCzfkwBgFm93NwAArlYzZ85027nT0tLUq1cvrVy5UnfffbdmzZqliIgI/fPPP1q+fLn+9a9/afHixerZs6fb2miGP//8U506ddKRI0c0ZMgQTZo0SUFBQdq7d68+/PBDNWvWTCdOnFBoaGiRj3no0CFNmjRJ1atXV5MmTVzWWb58uUJDQ2W327V//369+OKLat++vX788Uc1bdq0hK6u+IrSdlemTJmiDh06yGazacuWLZo0aZLatWunrVu3qnbt2qXXYAC4TBHCAKAEGIahtLQ0BQQEFHmfBg0alGKLLmz06NFasWKF3nnnHd13331O226//Xb9+9//1tmzZ0vkXKmpqQoMDCyRY5WkrKws3XbbbTp69KjWr1+v2NhYx7Z27dqpf//++t///icfH58SP3ezZs1UoUIFSVLr1q3VokUL1axZUx9//LFbQ9jFql27tq6//npJUps2bVS2bFn1799f7733niZNmmRqWzz1960gZ8+elb+/vywWi7ubAsBETEcEcFXYs2eP7r33XlWqVEl+fn6qX7++3njjDac6aWlpeuyxx9SkSROFhoaqfPnyatWqlT777LN8x7NYLBo+fLhmz56t+vXry8/PT++8845jeuS3336roUOHqkKFCgoLC9Ptt9+uQ4cOOR0j73TEvXv3ymKxaNq0aXr55ZcVExOjoKAgtWrVShs2bMjXhrfeekt16tSRn5+fGjRooA8++EADBgxQ9erVL3gvkpKS9PbbbysuLi5fAMtVu3ZtNWrUSNK5KZ979+51qpM7Fe27775zuqbY2FitWbNGrVu3VmBgoAYOHKhevXqpWrVqLqc4tmzZ0il4GIahmTNnqkmTJgoICFC5cuV055136q+//rrgdRXXp59+qm3btmns2LFOAex8Xbp0cfxB/8cff+j+++9X7dq1FRgYqMqVK6tHjx7atm2bo/53332n6667TpJ0//33O6bpPfPMMxdsS+5IW97At3//fvXt29fp93b69On57uOxY8c0bNgwVa5cWb6+vqpRo4bGjx+v9PR0p3offfSRWrZsqdDQUAUGBqpGjRoaOHDgJbXdlebNm0uSDh8+7FRelPehJO3YsUOdOnVSYGCgKlasqIcfflhfffVVkX/fpOxppmPGjFFMTIx8fX1VuXJljRw5UmfOnCnyPZGyp+3+5z//Ud26dRUQEKCyZcuqUaNGeuWVV5yO8/333+vmm29WcHCwAgMD1bp1a3311VdOdXLfSytXrtTAgQNVsWJFBQYG5usnAFc+RsIAXPF27typ1q1bKzo6WtOnT1dERIRWrFihESNG6OjRo5o4caIkKT09XceOHdOYMWNUuXJlZWRkaNWqVbr99ts1b968fIHl008/1dq1a/X0008rIiJClSpV0k8//SRJGjx4sLp166YPPvhABw4c0L///W/17dtX33zzTaHtfeONN1SvXj3NmDFDkvTUU0+pa9euSkhIcPyx/uabb+qhhx7SHXfcof/+9786efKkJk2aVKQ/5r799lvZbDb16tWrGHex6BITE9W3b189/vjjmjJliry8vHTixAn17NlT33zzjW655RZH3d9++00bN27Uq6++6ih76KGHNH/+fI0YMUIvvPCCjh07psmTJ6t169b65ZdfFB4eXiLtXLlypSQV+T4cOnRIYWFhev7551WxYkUdO3ZM77zzjlq2bKktW7aobt26atq0qebNm6f7779fEyZMULdu3SRJVapUcTpWVlaWMjMzHdMRJ0yYID8/P915552OOv/8849at26tjIwMPfvss6pevbq+/PJLjRkzRn/++adjOmtaWpo6dOigP//8U5MmTVKjRo20du1aTZ06VVu3bnUEgfXr16t3797q3bu3nnnmGfn7+2vfvn2O38mitr0oEhISJEl16tRxlBX1fZiYmKh27dqpTJkymjVrlipVqqSFCxdq+PDhLs/l6vctNTVV7dq1099//61x48apUaNG2rFjh55++mlt27ZNq1atksViKfSeSNKLL76oZ555RhMmTFDbtm1ls9n022+/6cSJE446q1evVseOHdWoUSPNmTNHfn5+mjlzpnr06KGFCxeqd+/eTm0eOHCgunXrpnfffVdnzpwpldFWAB7OAIDL2Lx58wxJxk8//VRgnbi4OKNKlSrGyZMnncqHDx9u+Pv7G8eOHXO5X2ZmpmGz2YxBgwYZ1157rdM2SUZoaGi+fXPbM2zYMKfyF1980ZBkJCYmOsratWtntGvXzvE6ISHBkGQ0bNjQyMzMdJRv3LjRkGQsXLjQMAzDyMrKMiIiIoyWLVs6nWPfvn2Gj4+PUa1atQLvhWEYxvPPP29IMpYvX37BenmvKSEhwan822+/NSQZ3377rdM1STK+/vprp7o2m80IDw837r33Xqfyxx9/3PD19TWOHj1qGIZhrF+/3pBkTJ8+3anegQMHjICAAOPxxx8vUpuLonPnzoYkIy0t7aL2z8zMNDIyMozatWsbo0aNcpT/9NNPhiRj3rx5+faZOHGiISnfIyQkxFi6dKlT3SeffNKQZPz4449O5UOHDjUsFouxe/duwzAMY/bs2YYk48MPP3Sq98ILLxiSjJUrVxqGYRjTpk0zJBknTpwo8Jou1HZXcn8HFi9ebNhsNiM1NdX44YcfjLp16xoNGjQwjh8/7qhb1Pfhv//9b8NisRg7duxwqhcXF1fk37epU6caXl5e+f5d+Pjjjw1JxrJly4p8T7p37240adLkgvfh+uuvNypVqmScOnXKUZaZmWnExsYaVapUMex2u2EY595L99133wWPB+DKx3REAFe0tLQ0ff3117rtttsUGBiozMxMx6Nr165KS0tzmur30Ucf6YYbblBQUJC8vb3l4+OjOXPmaNeuXfmOfdNNN6lcuXIuz3vrrbc6vc6d2rdv375C29ytWzdZrdYC9929e7eSkpJ01113Oe0XHR2tG264odDjl7Zy5crppptucirz9vZW3759tXTpUp08eVJS9mjQu+++q549eyosLEyS9OWXX8pisahv375OfRUREaHGjRs7TUVz5fx9MjMzZRhGiV1XZmampkyZogYNGsjX11fe3t7y9fXVnj17XP5+XMiqVav0008/aePGjfryyy91yy236O6779Ynn3ziqPPNN9+oQYMGatGihdO+AwYMkGEYjtGab775RmXKlHEaRcutJ0lff/21JDmmGt5111368MMPdfDgwWK1+UJ69+4tHx8fBQYG6oYbblBKSoq++uorlS1bVlLx3oerV69WbGxsvs9M3nPPPS7P7er37csvv1RsbKyaNGnidK64uDinKY1FuSctWrTQL7/8omHDhmnFihVKSUlx2n7mzBn9+OOPuvPOOxUUFOQot1qt6tevn/7++2/t3r3baZ877rijkDsK4EpHCANwRUtOTlZmZqZee+01+fj4OD26du0qSTp69KgkaenSpbrrrrtUuXJlvffee1q/fr1++uknDRw4UGlpafmOHRkZWeB5c0NFLj8/P0kq0mIXhe2bnJwsSS6n5RVlql50dLSkc1PGSlpB9yX3Pi5atEiStGLFCiUmJur+++931Dl8+LAMw1B4eHi+/tqwYYOjr1zZu3dvvn1Wr15dYP3i3ofRo0frqaeeUq9evfTFF1/oxx9/1E8//aTGjRsXexGTxo0bq3nz5rruuuvUrVs3ffTRR6pVq5YefvhhR53k5GSX9zIqKsqxPfdnREREvoUdKlWqJG9vb0e9tm3b6tNPP1VmZqbuu+8+ValSRbGxsVq4cGGx2u7KCy+8oJ9++kmrV6/W+PHjdfjwYfXq1csxPbY478Pk5ORi/W67ukeHDx/Wr7/+mu9cwcHBMgzDca6i3JOxY8dq2rRp2rBhg7p06aKwsDDdfPPNjiX4jx8/LsMwitRXF2ozgKsLnwkDcEUrV66c4/9In/8H7vliYmIkSe+9955iYmK0ePFipz9oC/qclbtWM8sNaXkXPZCyF90oTIcOHeTj46NPP/1UQ4YMKbS+v7+/pPz3oaBAVNB9yR3VmTdvnh566CHNmzdPUVFR6tSpk6NOhQoVZLFYtHbtWkf4PJ+rslxRUVGOz+Tlqlu3boH14+Li9Oabb+rTTz/Vk08+WWC9XO+9957uu+8+TZkyxan86NGjjhGfi+Xl5aVrrrlGH330kY4cOaJKlSopLCxMiYmJ+ermLvCSu7piWFiYfvzxRxmG4XTvjxw5oszMTEc9SerZs6d69uyp9PR0bdiwQVOnTtW9996r6tWrq1WrVhfd/ho1ajgW42jbtq0CAgI0YcIEvfbaaxozZkyx3odhYWHF+t129ftWoUIFBQQEaO7cuS73Kc498fb21ujRozV69GidOHFCq1at0rhx4xQXF6cDBw6oXLly8vLyKlJfXajNAK4ujIQBuKIFBgaqQ4cO2rJlixo1aqTmzZvne+SGGovFIl9fX6c/kJKSklyujuhOdevWVUREhD788EOn8v3792vdunWF7h8REaHBgwdrxYoVWrBggcs6f/75p3799VdJcqy2mPs61+eff17stt9///368ccf9f333+uLL75Q//79naZedu/eXYZh6ODBgy77qmHDhgUe29fXN1/94ODgAuv37NlTDRs21NSpU7V9+3aXdVasWKHU1FRJ2b8feUPgV199lW8KW3FGPXNlZWVp27Zt8vPzU0hIiCTp5ptv1s6dO/N9YfSCBQtksVjUoUMHR73Tp0/r008/zVcvd3tefn5+ateunV544QVJ0pYtWy667a48/vjjqlWrlp5//nmdOnWqWO/Ddu3aafv27dq5c6fTMXNHUIuie/fu+vPPPxUWFubyXK5WEC3onpyvbNmyuvPOO/Xwww/r2LFj2rt3r8qUKaOWLVtq6dKlTvfNbrfrvffeU5UqVZwWKAEAiZEwAFeIb775Jt8S6pLUtWtXvfLKK7rxxhvVpk0bDR06VNWrV9epU6f0xx9/6IsvvnB8tqZ79+5aunSphg0bpjvvvFMHDhzQs88+q8jISO3Zs8fkKyqYl5eXJk2apIceekh33nmnBg4cqBMnTmjSpEmKjIyUl1fh/3/t5Zdf1l9//aUBAwZoxYoVuu222xQeHq6jR48qPj5e8+bN06JFi9SoUSNdd911qlu3rsaMGaPMzEyVK1dOn3zyib7//vtit/2ee+7R6NGjdc899yg9Pd3xuaVcN9xwgx588EHdf//9+vnnn9W2bVuVKVNGiYmJ+v7779WwYUMNHTq02Od1xWq16pNPPlGnTp3UqlUrDR06VB06dFCZMmW0b98+ffzxx/riiy90/PhxSdm/H/Pnz1e9evXUqFEjbdq0SS+99FK+1QNr1qypgIAAvf/++6pfv76CgoIUFRXlmJomSZs2bXKsdHn48GHNnTtXv/32m0aNGuUYeRw1apQWLFigbt26afLkyapWrZq++uorzZw5U0OHDnX8YX/ffffpjTfeUP/+/bV37141bNhQ33//vaZMmaKuXbs6VqN8+umn9ffff+vmm29WlSpVdOLECb3yyivy8fFRu3btitz2ovDx8dGUKVN011136ZVXXtGECROK/D4cOXKk5s6dqy5dumjy5MkKDw/XBx98oN9++02SivT7PXLkSC1ZskRt27bVqFGj1KhRI8dKlCtXrtRjjz2mli1bFume9OjRQ7GxsWrevLkqVqyoffv2acaMGapWrZrji6inTp2qjh07qkOHDhozZox8fX01c+ZMbd++XQsXLmTkC0B+blwUBAAuWe5qYwU9clf0S0hIMAYOHGhUrlzZ8PHxMSpWrGi0bt3a+M9//uN0vOeff96oXr264efnZ9SvX9946623HCvanU+S8fDDDxfYnryrshW0kqCr1RFfeumlfMeVZEycONGp7M033zRq1apl+Pr6GnXq1DHmzp1r9OzZM99KjgXJzMw03nnnHeOmm24yypcvb3h7exsVK1Y0unTpYnzwwQdGVlaWo+7vv/9udOrUyQgJCTEqVqxoPPLII8ZXX33l8pquueaaC5733nvvNSQZN9xwQ4F15s6da7Rs2dIoU6aMERAQYNSsWdO47777jJ9//rlI11YcJ06cMJ599lmjadOmRlBQkOHj42NER0cbffv2NX744QdHvePHjxuDBg0yKlWqZAQGBho33nijsXbt2nz9aBiGsXDhQqNevXqGj4+PU9+5Wh2xfPnyRsuWLY25c+c63XPDyF7x8t577zXCwsIMHx8fo27dusZLL72Ur15ycrIxZMgQIzIy0vD29jaqVatmjB071mnlxy+//NLo0qWLUblyZcPX19eoVKmS0bVrV2Pt2rVFarsrub/XH330kcvtLVu2NMqVK+dYfbCo78Pt27cbt9xyi+Hv72+UL1/eGDRokPHOO+8YkoxffvnFUe9Cv2+nT582JkyYYNStW9fw9fU1QkNDjYYNGxqjRo0ykpKSinxPpk+fbrRu3dqoUKGC4evra0RHRxuDBg0y9u7d63S+tWvXGjfddJPjd/b66683vvjiC6c6RVnNFcDVwWIYJbh0FADAbU6cOKE6deqoV69eevPNN93dHKBEPfjgg1q4cKGSk5Pl6+vr7uYAwCVhOiIAXIaSkpL03HPPqUOHDgoLC9O+ffv03//+V6dOndKjjz7q7uYBl2Ty5MmKiopSjRo1dPr0aX355Zd6++23NWHCBAIYgCsCIQwALkN+fn7au3evhg0bpmPHjikwMFDXX3+9Zs+erWuuucbdzQMuiY+Pj1566SX9/fffyszMVO3atfXyyy/zPxgAXDGYjggAAAAAJnL7EvUzZ85UTEyM/P391axZM61du7bAuomJibr33ntVt25deXl5aeTIkS7rLVmyRA0aNJCfn58aNGigTz75pJRaDwAAAADF49YQtnjxYo0cOVLjx4/Xli1b1KZNG3Xp0kX79+93WT89PV0VK1bU+PHj1bhxY5d11q9fr969e6tfv3765Zdf1K9fP91111368ccfS/NSAAAAAKBI3DodsWXLlmratKlmzZrlKKtfv7569eqlqVOnXnDf9u3bq0mTJpoxY4ZTee/evZWSkqL//e9/jrLOnTurXLlyWrhwYYm2HwAAAACKy20Lc2RkZGjTpk168sknnco7deqkdevWXfRx169fr1GjRjmVxcXF5Qtr50tPT1d6errjtd1u17FjxxQWFsYXLAIAAABXMcMwdOrUKUVFRRXpC+OLwm0h7OjRo8rKylJ4eLhTeXh4uJKSki76uElJScU+5tSpUzVp0qSLPicAAACAK9uBAwdUpUqVEjmW25eozzvSZBjGJY8+FfeYY8eO1ejRox2vT548qejoaCUkJCg4OPiS2uKpbDabvv32W3Xo0EE+Pj7ubg5En3ga+sOz0B+ehf7wPPSJZ6E/PMul9sepU6cUExNTornAbSGsQoUKslqt+Uaojhw5km8kqzgiIiKKfUw/Pz/5+fnlKy9fvrxCQkIuui2ezGazKTAwUGFhYfzj4CHoE89Cf3gW+sOz0B+ehz7xLPSHZ7nU/sjdpyQ/puS21RF9fX3VrFkzxcfHO5XHx8erdevWF33cVq1a5TvmypUrL+mYAAAAAFBS3DodcfTo0erXr5+aN2+uVq1a6c0339T+/fs1ZMgQSdnTBA8ePKgFCxY49tm6dask6fTp0/rnn3+0detW+fr6qkGDBpKkRx99VG3bttULL7ygnj176rPPPtOqVav0/fffm359AAAAAJCXW0NY7969lZycrMmTJysxMVGxsbFatmyZqlWrJin7y5nzfmfYtdde63i+adMmffDBB6pWrZr27t0rSWrdurUWLVqkCRMm6KmnnlLNmjW1ePFitWzZ0rTrAgAAAICCuH1hjmHDhmnYsGEut82fPz9fWVG+1uzOO+/UnXfeealNAwAAQAkxDEOZmZnKyspyd1NKnc1mk7e3t9LS0q6K6/V0RekPHx8fWa1W09rk9hAGAACAK1tGRoYSExOVmprq7qaYwjAMRURE6MCBA3znrAcoSn9YLBZVqVJFQUFBprSJEAYAAIBSY7fblZCQIKvVqqioKPn6+l7xwcRut+v06dMKCgoqsS/3xcUrrD8Mw9A///yjv//+W7Vr1zZlRIwQBgAAgFKTkZEhu92uqlWrKjAw0N3NMYXdbldGRob8/f0JYR6gKP1RsWJF7d27VzabzZQQxm8FAAAASh1hBJ7M7NFZ3g0AAAAAYCJCGAAAAACYiBAGAACAy0KW3dD6P5P12daDWv9nsrLshX91kadp3769Ro4c6e5mwM0IYQAAAPB4y7cn6sYXvtE9b23Qo4u26p63NujGF77R8u2JpXI+i8VywceAAQMu6rhLly7Vs88+e0ltGzBggKMd3t7eio6O1tChQ3X8+HGnetWrV5fFYtGiRYvyHeOaa66RxWJx+l7eLVu2qHv37qpUqZL8/f1VvXp19e7dW0ePHpUk7d27VxaLRVu3bnXZrvnz57u8V/7+/pd0vVciVkcEAACAR1u+PVFD39usvONeSSfTNPS9zZrVt6k6x0aW6DkTE8+Fu8WLF+vpp5/W7t27HWUBAQFO9W02m3x8fAo9bvny5UukfZ07d9a8efOUmZmpnTt3auDAgTpx4oQWLlzoVK9q1aqaN2+e7r77bkfZhg0blJSUpDJlyjjKjhw5oltuuUU9evTQihUrVLZsWSUkJOjzzz8v1ve7hYSEON0nyfxFLy4HjIQBAADAVIZhKDUjs0iPU2k2Tfx8R74AJslR9sznO3UqzVbosQyj6NMXIyIiHI/Q0FBZLBbH67S0NJUtW1Yffvih2rdvL39/f7333ntKTk7WPffco+joaEVFRalx48b5QlHe6YjVq1fXlClTNHDgQAUHBys6Olpvvvlmoe3z8/NTRESEqlSpok6dOql3795auXJlvnp9+vTR6tWrdeDAAUfZ3Llz1adPH3l7nxuPWbdunVJSUvT222/r2muvVUxMjG666SbNmDFD0dHRRb5v59+n3Ed4eHiR979aMBIGAAAAU521ZanB0ytK5FiGpKSUNDV8Jn8AyWvn5DgF+pbcn79PPPGEpk+frnnz5snPz09paWlq1qyZ/v3vf8vLy0tr1qxRv379VKNGDbVs2bLA40yfPl3PPvusxo0bp48//lhDhw5V27ZtVa9evSK146+//tLy5ctdjsSFh4crLi5O77zzjiZMmKDU1FQtXrxYq1ev1oIFCxz1IiIilJmZqU8++UR33nkno1eljJEwAAAA4CKMHDlSt99+u2JiYhQVFaXKlStrzJgxatKkiapXr67hw4crLi5OH3300QWP07VrVw0bNky1atXSE088oQoVKui777674D5ffvmlgoKCFBAQoJo1a2rnzp164oknXNYdOHCg5s+fL8Mw9PHHH6tmzZpq0qSJU53rr79e48aN07333qsKFSqoS5cueumll3T48OHi3BKdPHlSQUFBTo9OnToV6xhXA0bCAAAAYKoAH6t2To4rUt2NCcc0YN5Phdabf/91ahFz4c9bBfhYi3TOomrevLnT66ysLD3//PNavHix/v77b2VkZCg9Pd3ps1euNGrUyPE8dzrfkSNHLrhPhw4dNGvWLKWmpurtt9/W77//rkceecRl3W7duumhhx7SmjVrNHfuXA0cONBlveeee06jR4/WN998ow0bNmj27NmaMmWK1qxZo4YNG16wPbmCg4O1efNmp7K8n58DI2EAAAAwmcViUaCvd5EebWpXVGSovwqaHGeRFBnqrza1KxZ6rJKeYpc3XE2fPl3//e9/NWbMGH322WfavHmz4uLilJGRccHj5J1GaLFYZLfbCz13rVq11KhRI7366qtKT0/XpEmTXNb19vZWv379NHHiRP3444/q06dPgccNCwvTv/71L02fPl27du1SVFSUpk2bdsG2nM/Ly0u1atVyelSuXLnI+18tCGEAAADwWFYviyb2aCBJ+YJY7uuJPRrI6uX+zzCtXbtWPXv2VN++fdWwYUPVqFFDe/bsMeXcEydO1LRp03To0CGX2wcOHKjVq1erZ8+eKleuXJGO6evrq5o1a+rMmTMl2VSI6YgAAADwcJ1jIzWrb1NN+mKnEk+mOcojQv01sUeDEl+e/mLVqlVLS5Ys0bp16+Tj46O33npLSUlJql+/fqmfu3379rrmmms0ZcoUvf766/m2169fX0ePHlVgYKDL/b/88kstWrRId999t+rUqSPDMPTFF19o2bJlmjdvnlPdvEvQS1KDBtlB2TAMJSUl5dteqVIleXkx/pOLEAYAAACP1zk2Uh0bRGhjwjEdOZWmSsH+ahFT3iNGwHI99dRTSkhIUJcuXRQQEKAHH3xQvXr10smTJ005/+jRo3X//ffriSeeUNWqVfNtDwsLK3DfBg0aKDAwUI899pgOHDggPz8/1a5dW2+//bb69evnVPf87xzLlZCQIElKSUlRZGT+UJyYmKiIiIjiXtIVixAGAACAy4LVy6JWNQsOEqVlwIABGjBggON19erVXX7nWPny5fXpp5/KbrcrJSVFISEh+UZ/8q56uHfv3nzH2bp16wXbM3/+fJfl9957r+69994LHvt8J06ccDyvUaNGod9PVtB158p7n1AwxgQBAAAAwESEMAAAAAAwESEMAAAAAExECAMAAAAAExHCAAAAAMBEhDAAAAAAMBEhDAAAAABMRAgDAAAAABMRwgAAAADARIQwAAAAXB7sWVLCWmnbx9k/7VnublGh2rdvr5EjRzpeV69eXTNmzLjgPhaLRZ9++ukln7ukjoOSRwgDAACA59v5uTQjVnqnu7RkUPbPGbHZ5aWgR48euuWWW1xuW79+vSwWizZv3lzs4/7000968MEHL7V5Tp555hk1adIkX3liYqK6dOlSoufKa/78+bJYLI5HeHi4evTooR07djjVGzBggCwWi4YMGZLvGMOGDZPFYtGAAQMcZUeOHNFDDz2k6Oho+fn5KSIiQnFxcVq/fr2jzoUC7d69ex1tslqtKleunKxWqywWizZs2FAi134pCGEAAADwbDs/lz68T0o55FyekphdXgpBbNCgQfrmm2+0b9++fNvmzp2rJk2aqGnTpsU+bsWKFRUYGFgSTSxURESE/Pz8Sv08ISEhSkxM1KFDh/TVV1/pzJkz6tatmzIyMpzqVa1aVYsWLdLZs2cdZWlpaVq4cKGio6Od6t5xxx365Zdf9M477+j333/X559/rvbt2+vYsWPFatuqVat08OBB/fbbbzp48KASExPVrFmzi7/YEkIIAwAAgLkMQ8o4U7RHWor0v8clGa4OlP1j+RPZ9Qo7luHqGK51795dlSpV0vz5853KU1NTtXjxYg0aNEjJycm65557VKVKFQUGBqphw4ZauHDhBY+bd/Rmz549atu2rfz9/dWgQQPFx8fn2+eJJ55QnTp1FBgYqBo1auipp56SzWaTlD0SNWnSJP3yyy+OkZ/cNuedjrht2zbddNNNCggIUFhYmB588EGdPn3asX3AgAHq1auXpk2bpsjISIWFhenhhx92nKsgFotFERERioyMVPPmzTVq1Cjt27dPu3fvdqrXtGlTRUdHa+nSpY6ypUuXqmrVqrr22msdZSdOnND333+vF154QR06dFC1atXUokULjR07Vt26dbtgW/IKCwtTRESEwsPDFRERoYiICPn4+BTrGKXB290NAAAAwFXGlipNiSqhgxnZI2TPVy286rhDkm+ZIh3V29tb9913n+bPn6+nn35aFotFkvTRRx8pIyNDffr0UWpqqpo1a6YnnnhCISEh+uqrr9SvXz9Vr15d9evXL/Qcdrtdt99+uypUqKANGzYoJSXF6fNjuYKDgzV//nxFRUVp27ZteuCBBxQcHKzHH39cvXv31vbt27V8+XKtWrVKkhQaGprvGKmpqercubOuv/56/fTTTzpy5IgGDx6s4cOHOwXNb7/9VpGRkfr222/1xx9/qHfv3mrSpIkeeOCBIt23EydO6IMPPpAkl2Hn/vvv17x589SnTx9J2aOKAwcO1HfffeeoExQUpKCgIH366ae6/vrrTRnNMxsjYQAAAIALAwcO1N69e50Cwty5c3X77berXLlyqly5ssaMGaMmTZqoRo0aeuSRRxQXF6ePP/64SMdftWqVdu3apXfffVdNmjRR27ZtNWXKlHz1JkyYoNatW6t69erq0aOHHnvsMX344YeSpICAAAUFBcnb29sx0hMQEJDvGO+//77Onj2rBQsWKDY2VjfddJNef/11vfvuuzp8+LCjXrly5fT666+rXr166t69u7p166avv/76gtdx8uRJBQUFqUyZMipXrpwWLVqkW2+9VfXq1ctXt1+/fvr++++1d+9e7du3Tz/88IP69u3rVMfb21vz58/XO++8o7Jly+qGG27QuHHj9Ouvvxbpvp6vdevWCgkJUZUqVRQSEqKgoCBlZbl/QRdGwgAAAGAun8DsUami2LdOev/Owuv1+Viq1rrw8xZDvXr11Lp1a82dO1cdOnTQn3/+qbVr12rlypWSpKysLD3//PNavHixDh48qPT0dKWnpxf5M1+7du1SdHS0qlSp4ihr1apVvnoff/yxZsyYoT/++EOnT59WZmamQkJCinUtu3btUuPGjVWmzLmRwBtuuEF2u127d+9WeHi4JOmaa66R1Wp11ImMjNS2bdsueOzg4GBt3rxZmZmZWr16tV566SXNnj3bZd0KFSqoW7dueuedd2QYhrp166YKFSrkq3fHHXeoW7duWrt2rdavX6/ly5frxRdf1Ntvv+20gEdhFi9erLp16+r06dMKCgqSl5eX0/W5CyEMAAAA5rJYijwtUDVvkkKishfhcPm5MEv29po3SV4l/8f1oEGDNHz4cL3xxhuaN2+eqlWrpptvvlmSNH36dP33v//VjBkz1LBhQ5UpU0YjR47MtyBFQQwXn1HLnfaYa8OGDbr77rs1adIkxcXFKTQ0VIsWLdL06dOLdR2GYeQ7tqtz5p1CaLFYZLfbL3hsLy8v1apVS1J2cE1KSlLv3r21Zs0al/UHDhyo4cOHS5LeeOONAo/r7++vjh07qmPHjnr66ac1ePBgTZw4sVghrGrVqqpVq5ZSUlIUEhIiLy/PmAjoGa0AAAAAXPGySp1fyHmRN0TkvO78fKkEMEm66667ZLVa9cEHH+idd97R/fff7wgta9euVc+ePdW3b181btxYNWrU0J49e4p87AYNGmj//v06dOjcqOD5S7BL0g8//KBq1app/Pjxat68uWrXrp1vxUZfX99Cp9g1aNBAW7du1ZkzZ5yO7eXlpTp16hS5zUUxatQo/fLLL/rkk09cbu/cubMyMjKUkZGhuLi4Ih+3QYMGTu2/nBHCAAAA4Nka3CrdtUAKiXQuD4nKLm9wa6mdOigoSL1799a4ceN06NAhp1GYWrVqKT4+XuvWrdOuXbv00EMPKSkpqcjHvuWWW1S3bl3dd999+uWXX7R27VqNHz/eqU6tWrW0f/9+LVq0SH/++adeffXVfOGmevXqSkhI0NatW3X06FGlp6fnO1efPn3k7++v/v37a/v27fr222/1yCOPqF+/fo6piCUlJCTEMWrlarTParVq165d2rVrl8upgcnJybrpppv03nvv6ddff1VCQoI++ugjvfjii+rZs6dT3YMHD2rr1q1Oj/OXsU9OTlZSUpIOHz6spKQkJSUlKS0trUSv92IQwgAAAOD5Gtwqjdwu9f9SumNO9s+R20o1gOUaNGiQjh8/rltuucXp+6yeeuopNW3aVHFxcWrfvr0iIiLUq1evIh/Xy8tLn3zyidLT09WiRQsNHjxYzz33nFOdnj17atSoURo+fLiaNGmidevW6amnnnKqc8cdd6hz587q0KGDKlas6HKZ/MDAQK1YsULHjh3TddddpzvvvFM333yzXn/99eLdjCJ69NFHtWvXLn300Ucut4eEhBT4ubagoCC1bNlS//3vf9W2bVvFxsbqqaee0gMPPJCvvdOmTdO1117r9Pj883PfG3fLLbeocuXKqlevnipXrqzIyEinZfvdxWK4iqdXuZSUFIWGhurkyZPF/tDj5cJms2nZsmXq2rWrR3xXAugTT0N/eBb6w7PQH57Hk/skLS1NCQkJiomJkb+/v7ubYwq73e5xn0G6mhWlPy70e1oa2YDfCgAAAAAwESEMAAAAAExECAMAAAAAExHCAAAAAMBEhDAAAACUOtaCgycz+/eTEAYAAIBSk7taY2pqqptbAhQsIyNDklx+b1lp8DblLAAAALgqWa1WlS1bVkeOHJGU/X1VFovFza0qXXa7XRkZGUpLS2OJeg9QWH/Y7Xb9888/CgwMlLe3OfGIEAYAAIBSFRERIUmOIHalMwxDZ8+eVUBAwBUfOC8HRekPLy8vRUdHm9ZfhDAAAACUKovFosjISFWqVEk2m83dzSl1NptNa9asUdu2bT3uy7OvRkXpD19fX1NHLQlhAAAAMIXVajXtMzfuZLValZmZKX9/f0KYB/DE/mCSKgAAAACYiBAGAAAAACYihAEAAACAiQhhAAAAAGAiQhgAAAAAmIgQBgAAAAAmIoQBAAAAgIkIYQAAAABgIkIYAAAAAJiIEAYAAAAAJiKEAQAAAICJCGEAAAAAYCJCGAAAAACYiBAGAAAAACYihAEAAACAiQhhAAAAAGAiQhgAAAAAmIgQBgAAAAAmIoQBAAAAgIkIYQAAAABgIkIYAAAAAJiIEAYAAAAAJiKEAQAAAICJCGEAAAAAYCJCGAAAAACYiBAGAAAAACYihAEAAACAiQhhAAAAAGAiQhgAAAAAmIgQBgAAAAAmIoQBAAAAgIkIYQAAAABgIreHsJkzZyomJkb+/v5q1qyZ1q5de8H6q1evVrNmzeTv768aNWpo9uzZ+erMmDFDdevWVUBAgKpWrapRo0YpLS2ttC4BAAAAAIrMrSFs8eLFGjlypMaPH68tW7aoTZs26tKli/bv3++yfkJCgrp27ao2bdpoy5YtGjdunEaMGKElS5Y46rz//vt68sknNXHiRO3atUtz5szR4sWLNXbsWLMuCwAAAAAK5O3Ok7/88ssaNGiQBg8eLCl7BGvFihWaNWuWpk6dmq/+7NmzFR0drRkzZkiS6tevr59//lnTpk3THXfcIUlav369brjhBt17772SpOrVq+uee+7Rxo0bzbkoAAAAALgAt4WwjIwMbdq0SU8++aRTeadOnbRu3TqX+6xfv16dOnVyKouLi9OcOXNks9nk4+OjG2+8Ue+99542btyoFi1a6K+//tKyZcvUv3//AtuSnp6u9PR0x+uUlBRJks1mk81mu9hL9Gi513WlXt/liD7xLPSHZ6E/PAv94XnoE89Cf3iWS+2P0uhHt4Wwo0ePKisrS+Hh4U7l4eHhSkpKcrlPUlKSy/qZmZk6evSoIiMjdffdd+uff/7RjTfeKMMwlJmZqaFDh+YLe+ebOnWqJk2alK985cqVCgwMvIiru3zEx8e7uwnIgz7xLPSHZ6E/PAv94XnoE89Cf3iWi+2P1NTUEm6Jm6cjSpLFYnF6bRhGvrLC6p9f/t133+m5557TzJkz1bJlS/3xxx969NFHFRkZqaeeesrlMceOHavRo0c7XqekpKhq1arq1KmTQkJCLuq6PJ3NZlN8fLw6duwoHx8fdzcHok88Df3hWegPz0J/eB76xLPQH57lUvsjd5ZcSXJbCKtQoYKsVmu+Ua8jR47kG+3KFRER4bK+t7e3wsLCJElPPfWU+vXr5/icWcOGDXXmzBk9+OCDGj9+vLy88q9F4ufnJz8/v3zlPj4+V/wb52q4xssNfeJZ6A/PQn94FvrD89AnnoX+8CwX2x+l0YduWx3R19dXzZo1yzcsGB8fr9atW7vcp1WrVvnqr1y5Us2bN3fcnNTU1HxBy2q1yjAMx6gZAAAAALiLW5eoHz16tN5++23NnTtXu3bt0qhRo7R//34NGTJEUvY0wfvuu89Rf8iQIdq3b59Gjx6tXbt2ae7cuZozZ47GjBnjqNOjRw/NmjVLixYtUkJCguLj4/XUU0/p1ltvldVqNf0aAQAAAOB8bv1MWO/evZWcnKzJkycrMTFRsbGxWrZsmapVqyZJSkxMdPrOsJiYGC1btkyjRo3SG2+8oaioKL366quO5eklacKECbJYLJowYYIOHjyoihUrqkePHnruuedMvz4AAAAAyMvtC3MMGzZMw4YNc7lt/vz5+cratWunzZs3F3g8b29vTZw4URMnTiypJgIAAABAiXHrdEQAAAAAuNoQwgAAAADARIQwAAAAADARIQwAAAAATEQIAwAAAAATEcIAAAAAwESEMAAAAAAwESEMAAAAAExECAMAAAAAExHCAAAAAMBEhDAAAAAAMBEhDAAAAABMRAgDAAAAABMRwgAAAADARIQwAAAAADARIQwAAAAATEQIAwAAAAATEcIAAAAAwESEMAAAAAAwESEMAAAAAExECAMAAAAAExHCAAAAAMBEhDAAAAAAMBEhDAAAAABMRAgDAAAAABMRwgAAAADARIQwAAAAADARIQwAAAAATEQIAwAAAAATEcIAAAAAwESEMAAAAAAwESEMAAAAAExECAMAAAAAExHCAAAAAMBEhDAAAAAAMBEhDAAAAABMRAgDAAAAABMRwgAAAADARIQwAAAAADARIQwAAAAATEQIAwAAAAATEcIAAAAAwESEMAAAAAAwESEMAAAAAExECAMAAAAAExHCAAAAAMBEhDAAAAAAMBEhDAAAAABMRAgDAAAAABMRwgAAAADARIQwAAAAADARIQwAAAAATEQIAwAAAAATEcIAAAAAwESEMAAAAAAwESEMAAAAAExECAMAAAAAExHCAAAAAMBEhDAAAAAAMBEhDAAAAABMRAgDAAAAABMRwgAAAADARIQwAAAAADARIQwAAAAATEQIAwAAAAATEcIAAAAAwESEMAAAAAAwESEMAAAAAExECAMAAAAAExHCAAAAAMBEhDAAAAAAMBEhDAAAAABMRAgDAAAAABN5u7sBKIQ9S9q3Tjp9WAoKl6q1lrys7m4VAAAAgItECPNkOz+Xlj8hpRw6VxYSJXV+QWpwq/vaBQAAAOCiMR3RU+38XPrwPucAJkkpidnlOz93T7sAAAAAXBJCmCeyZ2WPgMlwsTGnbPmT2fXgmj1LSlgrbfs4+yf3CgAAAB6C6YieaN+6/CNgTgwp5aD0Rovsz4n5BOQ8AvP8dFWW/dNi8VHw2b+lE/ukgJBz266Ez5sxjRMAAAAejBDmiU4fLlq95D+yHxfBW9JNkvTbOOcNVt9iBLqCQ94Ft3n7SxbLRbW7ULnTOPOOIuZO47xrAUEMAAAAbkUI80RB4UWrd/NEqXyMZDsr2VJzfp7/vOAyIyNVGakn5WvJksWWeu6YWRnZj7STpXNtkiSLi6BWAsHP6ist+7cKnsZpyZ7GWa/blTHiVxpYjRMAAKDUEcI8UbXW2dPnUhLlOlBYsrff8OhF/4GcabNp+bJl6tq1q3y8vaXMtAIC3IXCXfGCn7Iycs5u5JSlSkq+yJt0MXKmcb51kxRaJTu8+QZKPmUk3zLnPQ/M2VYmT53zfpbmaJ67MI0TAADAFIQwT+Rlzf7D98P7JFnkHMRy/vDv/HzJjVBYzhuZUvmSOaYrWZlSZjFCW3FDXlqKlJVeeDsSt2Y/LomlgJBWUHg7v7yA7RZfWbPSJMN+iW27CEzjvDSMIAIAgGJwewibOXOmXnrpJSUmJuqaa67RjBkz1KZNmwLrr169WqNHj9aOHTsUFRWlxx9/XEOGDHGqc+LECY0fP15Lly7V8ePHFRMTo+nTp6tr166lfTklp8Gt2X/4uhyZeP7y/IPY6i1ZgyW/4NI5fsJa6Z3uhde7cXT2SJgtVcpIlWxncn6mShlnCig/nf3cEfKMnLLT0pmSab6PpO6S9OuDknfARYS7IoY+a563faGrcTKN84IYQbw0BFgAwFXIrSFs8eLFGjlypGbOnKkbbrhB//d//6cuXbpo586dio6Ozlc/ISFBXbt21QMPPKD33ntPP/zwg4YNG6aKFSvqjjvukCRlZGSoY8eOqlSpkj7++GNVqVJFBw4cUHBwKf3hX5oa3Jr9hy9/oBRNUadx3jTh4u+hPeu8oFZQYHNVXoSgd/5n8zLPZj9KY7qm1dc5nBn2oq3G+fkIqUItyctHsuY8LvjcN+e5dxGe+0hel+E3ZjCCeGkIsBeP8HpxuG8APIRbQ9jLL7+sQYMGafDgwZKkGTNmaMWKFZo1a5amTp2ar/7s2bMVHR2tGTNmSJLq16+vn3/+WdOmTXOEsLlz5+rYsWNat26dfHx8JEnVqlUz54JKg5dViil4ZBDnMWMap5dV8g/JfpQwW0a6Vnz5meJuulE+RoaL0Fac0OeiPHeao2PxlRPFa+DW90r8mp1YrDkhzjcnoJ3/vBiBrtBwWLTjWgyLyp75U0raJvkF5G+XLNL/HhcjiBeJAHvxCK8Xh/t28QivF8+eJSVs4N4V11XwO+e2EJaRkaFNmzbpySefdCrv1KmT1q1b53Kf9evXq1OnTk5lcXFxmjNnjmw2m3x8fPT555+rVatWevjhh/XZZ5+pYsWKuvfee/XEE0/IanXdeenp6UpPP/dZopSUFEmSzWaTzWa7lMv0WLnXdcVdX+0ustwxT9aV42Q5de4/tEZIlLI6PiejdhfJQ6/ZlpmlLKufbL5lpZz/gVBiDCN7KuV5o26WnJBmOfizrN8+W+ghsmp1kiWwgmTPkLJs2Q+7TbJn5gS7TMlukyW3/Pw6jp/ZdS12F31gZEmZWdmLxHgAb0ntJOn3SRd5hOwRROPFmJyFXKySxSv7PyIWr3MPx2urjHxl578ueD95eZ177vhpkXH+fl7ZZc6vXZW5OH5OmVHE86qw8xqS9ctRkgzlX97GyC5d9m9lRjaXvP0kL6tsWYZk2K+8f7OKyfLbl7IuuV95752RE16z7pgno14RpmVfosvtvyGect9KU2n1ieW3L/P/NzU4Slmdplz296w02Ww2RZ74SdbXn5BOJTrKuXeFK43fuUt9f5TGv3VuC2FHjx5VVlaWwsOdl2MPDw9XUlKSy32SkpJc1s/MzNTRo0cVGRmpv/76S99884369OmjZcuWac+ePXr44YeVmZmpp59+2uVxp06dqkmT8v+htXLlSgUGBl7kFV4e4uPj3d2EUuAl1ZyisNO75W87oTSfskoOqiv95SX9tczdjSuU6X1i1FQnn/Lytx1z8Qdx9jjFWZ/yig+6N/uPaKuyP8B2Sec0ZJFdXkamLEaWvIysc8/tmfIysnLKXWw3crdnFlDuqs655wXVdX2u7PZYlHOMnLZ5KavIl2pJOympaF/5cIWtt3nRLDKk00nyeaW+o8xHUk9JxlaLDIuX7BarDFlznnvLsHjJsFhzynOfe8nI2WaXVYbFem7fnIc9p+65+q7Ks/czdN5zR3n2+c4dM6c9jv3zbFOetuY+d9U+eTmvwmrY1WnHaFldhFeLDBmSMj4frfg/lf1eNcFl8d8QD7xvpakk+yTyxE+6LuG1/BtOHZJ1yQD9FPOIEsteV2Lnu5Jw7y5Oad+3i31/pKamFl6pmNy+MIclzzLfhmHkKyus/vnldrtdlSpV0ptvvimr1apmzZrp0KFDeumllwoMYWPHjtXo0aMdr1NSUlS1alV16tRJISElP+3ME9hsNsXHx6tjx46OaZtXnsvr/zK5s08sNSUtuT9nEt256WG5f7L43vqyul5l/9fOVX8YkrIkZRmGLAmr5b3wzkKPk9ntFRkRjSTDLouRlT0qaWRlTw+1Z+U8N3Ke28/bdt5zp7Kc1/YsWYzc1/Y8x7TneV6081qKeF4V8bwWo4D90k/Jknr0ovrFIsMRkK8GRu403ZwRRIut4JWALJICbcd06x9P5qx2W4rtMgylpqYqMDCw4P9mG66m6rqB7awstmMFbnbct7/GS75BOSO3XjlbLDmvs8P/udd5nytnNDh3nzzPzzuO03aXxzm//MLHMc7bbjekAwcOqGp0NXlZvXOa76rNrtrj4pyGIa+d7zjuUd57Zki6LnGB7HUqO4/kuzpWbplTeZ62uazjqm3nn8NLsujcuV3WKcI5XO1X0L556+bWOZ89K3sErMB7Z9F1yUuVefclfEb9SmTPkvfr2TPkSvq+XerfWLmz5EqS20JYhQoVZLVa8416HTlyJN9oV66IiAiX9b29vRUWFiZJioyMlI+Pj9PUw/r16yspKUkZGRny9fXNd1w/Pz/5+fnlK/fx8bmCA0q2q+EaLzdu6ZOGt0lWa77PS1hyVuP0voo/L1Fgf9S+qUgLwXg368d/ZPMq6kqm930hRV8v2W2ypacpfuX/1PGmDvLxUvY02LyPrPNf50yVtWflbDv/ta2AffIez3Zu//OPl3Xe/k7Hy7utoGPlHu+8thUQKi2503SLwXLa9WySkmSRFCRJGYVUvIxYUg5eeLtJ7bhYVkk1JOni/v9GsVkkKe2krCueLKzqVSBP0DSM7Pd4gbWzp6v7TKuR/VnjnEMUeo4Lbi7sAJfB/pkZUtrxCxwh574d+umi10u42L+xSuPvMreFMF9fXzVr1kzx8fG67bbbHOXx8fHq2bOny31atWqlL774wqls5cqVat68uePm3HDDDfrggw9kt9vllbPa2u+//67IyEiXAQxADlbjLB6zv8/vSlLUlUyr35Bz/3wli69s3sFSUKWS/8ykJ8gdlbTnCXjnh7r9G6RPhxR+rK7TpMjGpdrczMxMrVu/Tq1btZa3t9sn1VxY4i/SsjGF14ubIoXHSjJyRo7tOc913nN7zghfAc9zF0By2t+48P4Xs4+jzrl6WVmZ+mPPHtWqWVNWL4uL/ZXnnHnPk+ecxxKkfT8Uft+imma/X3P3z3tep7KCyu15yl3cI5d1896nguoXse5FO//4xXCBkW1cwOnD7m5BiXDrv5yjR49Wv3791Lx5c7Vq1Upvvvmm9u/f7/jer7Fjx+rgwYNasGCBJGnIkCF6/fXXNXr0aD3wwANav3695syZo4ULFzqOOXToUL322mt69NFH9cgjj2jPnj2aMmWKRowY4ZZrBC4rrMZZPFfi9/mZgQCbn8WS812KF/jPctlo6ZvJhYfX5gNL/d4ZNpuOl/lHRpXrPD8UV24mff9y4fet5ZDL+nfObrPptzPLVKNDV1lLok+KOmLdcfKV89+NoobEwgLl/h+lJQMLP1+v/5OqNM89edHaV3ilEjiOm9pycLP0xSOF7xPkesbc5catIax3795KTk7W5MmTlZiYqNjYWC1btsyxpHxiYqL279/vqB8TE6Nly5Zp1KhReuONNxQVFaVXX33VsTy9JFWtWlUrV67UqFGj1KhRI1WuXFmPPvqonnjiCdOvD8BVgBHEi0OALT7C68Xhvl2coo5YV2ttdstKT+5KrpfqmkgZKydIpw4VMAkv5941+he/d+erVF9aPfWq+Z1z+xyCYcOGadiwYS63zZ8/P19Zu3bttHnz5gses1WrVtqwYUNJNA8ACscI4sUhwBYf4fXicN+Kj/B68bysyuo0RdYlA2TI4rTgFffuAq6y3zm3hzAAwFWMAFt8hNeLw30rPsLrRTPqdddPMY/ouqNLpFPcuyK7in7nCGEAAFxuCK8Xh/tWfITXi5ZY9jpl3j0hezU/7l3RXSW/c4QwAAAAFIzwevG4dxfnKrhvl/9XwwMAAADAZYQQBgAAAAAmIoQBAAAAgIkIYQAAAABgIhbm8HBZdkMbE47pyKk0VQr2V4uY8rJ6uf7qPwAAAACejxDmwZZvT9SkL3Yq8WSaoywy1F8TezRQ59hIN7YMAAAAwMViOqKHWr49UUPf2+wUwCQp6WSahr63Wcu3J7qpZQAAAAAuBSHMA2XZDU36YqcMF9tyyyZ9sVNZdlc1AAAAAHgyQpgH2phwLN8I2PkMSYkn07Qx4Zh5jQIAAABQIghhHujIqYID2MXUAwAAAOA5CGEeqFKwf4nWAwAAAOA5CGEeqEVMeUWG+utCC9FbLZK3laXqAQAAgMsNIcwDWb0smtijgSQVGMSyDOnuNzfo9W/2sEAHAAAAcBkhhHmozrGRmtW3qSJCnaccRob66+W7GuvWxlHKshuatvJ39Xl7gxJPnnVTSwEAAAAUB1/W7ME6x0aqY4MIbUw4piOn0lQp2F8tYsrL6mXRbddWVts6FfX0Z9u14a9j6vLKWr14RyN1uibC3c0GAAAAcAGEMA9n9bKoVc2wfOUWi0V3NquiptFl9eiirdp28KQefHeT+l4frQndGsjfx+qG1gIAAAAoTIlORzQMQ0eOHCnJQ6IQNSoGacnQ1nqwbQ1J0nsb9uvW17/X7qRTbm4ZAAAAAFeKFcICAwP1zz//OF537txZiYmJjtdHjhxRZGRkybUOReLr7aVxXetrwcAWqhDkp98Pn9atr3+vd9fvlWGwaAcAAADgSYoVwtLS0pz+qP/hhx909qzzghD80e8+betU1PKRbdS+bkWlZ9r11Gc79OC7m3T8TIa7mwYAAAAgR4mvjmix8N1V7lQhyE9z+1+np7o3kK/VS/E7D6vzK2u07s+j7m4aAAAAALFE/RXJy8uiQTfGaOmw1qpRsYwOp6Srz9s/6qUVv8mWZXd38wAAAIACZdkNrf8zWZ9tPaj1fyZfkd+JW6zVES0Wi9NIV97X8CyxlUP15SM3atLnO7X45wN649s/9cMfyXr17msVGeLj7uYBAAAATpZvT9SkL3Yq8WSaoywy1F8TezRQ59grZ+2JYoUwwzBUp04dR/A6ffq0rr32Wnl5eTm2w7ME+nrrhTsbqU2dChq7dJu2Hjihrq+u1eRb64tF7AEAAEpPlt3Qz38m5/u+V7i2fHuihr63WXkTRdLJNA19b7Nm9W16xQSxYoWwefPmlVY7UMq6N4pSk6rZ3ym2ad9xjf5om1pU9FLb9EyV82FUDAAAuJZlN7Qx4RhBoph+SbZo6vQ1SkpJd5RdiSM6rhiGofRMu9Iz7crItCs9Myvnpz3Pz3PlabYsTVm2K18AkyRDkkXSpC92qmODiCvi969YIax///4X3G6z2ZyWrIdnqVIuUIsfvF6vfvOHXv9mjzb+46VeMzfotXuvVaMqZd3dPAAA4GGulqlhJW3FjsOa+7uXpHSn8tIe0bHbDWVk2XMCUOHBJ+/rvMHJed+8rws+R0YprEFgSEo8maaNCcfUqmZYiR/fbMUKYYXZuXOnmjZtqqysrJI8LEqQt9VLozvW0fXVy2rYuxu171iq7pi1TmM61dUDbWrI6wr4PwsAALjCiE7xXE1Tw4rLMAxl2g1lZhmy2e3KzDKUmWWXzW4o3ZalZ77c5Xq/nJ9PLtmmY2cylGk3lG7LDi3ptiylZ9nPe32u3On1BcKVLcszPxrk6+0lP8fD6njte17ZsdQM7TyUUuixjpxKK7TO5aBEQxguH9dVL6fHG2Xpu9Qordx5RFP/95u+/+Oopt/VWJWC/d3dPAAAShQjOsWTZTc06YudJT41zG7PDi223NCSZSgzJ8TYsuzKtOf8zCnPrncu6Niy7C625+53Lghl5jmWrajnyrs987zjnR+4irRaX8H35cRZm8Z9sr3I9+1inQs6VkcI8r1AGPJ1We4qNBWtnq+3l3ytXkVayG/9n8m6560Nhda7Uv5OJYRdxcr4SK/f3Vgfb0nS5C93aO2eo+oyY62m/auxOtSr5O7mAQBQIq7UEZ2snBCRkWVXalqGTqRLB46nyrBYs0NHZvbUNNt5j+ypYjnhIrcsN6Rknnu9P/mMU2DNK3dqWOcZqxXg650nDOUPSblB5gpcadzBYpF8vLwkGcoowojUNVEhqhYWKF9r0QNN/jBVcD0f6+W1inmLmPKKDPVX0sk0l+HfIikiNHsE+0pACLvKWSwW3dsyWtdVL6dHFm7Rb0mndP/8nzTwhhg90aWu/LxZQxEAPA3T6oquuCM654/UnAslOa9zQozt/NeO8HLe6/PKnEOQcd7+523PzPPacYw8x8xpU+7r/IHGW9r8fanf0/PtOXLmko/h7WWRt9UiHy8veVst8rZ6yccr+6frcot8rF7ysXrJ2yv7ubfVIm8vL/lYLXme5z+WozynXu7xXB/rXLmP9cLbc9+DRR3RmdCtwRXx2aaSYvWyaGKPBhr63mZZJKf3bO6/bhN7NLhi/q0rVgj79ddfL7h99+7dl9QYuE/t8GB9+vANev5/v2n+ur2a+0OCNvyVrFfvuVa1KgW5u3kAgBxX27S63FXWzmZk6awtS6kZWUrL+XnWlpVTnqmzGfac15lO9fYnpxZpRKf+U8tlN4o6zcwzeVmMnBGQ7NGQ3KCSGx7OleW8zt3unV3meG310j+n0/TFL4Uvtjbqltq6JipU3jn75w1OroLO+QHochutKYoWMeUVEeKnpJQ0uZqSeKWN6JSkzrGRmtW3ab5/4yKuwH/jihXCmjRpIovF4vL7wHLLr7Q30tXE38eqZ269Rm1qV9C/P/5VOxNT1OO17zWxRwP1vq4qfQsAbuaJ0+psWXbnYOQUjrLOBaOMLKXaspR2Xpg6a3PeL3+4yn6Y8TWkBa3mZrFIvrmBxdtVgDk3KuN7XsDx8c7z2hGCXNT39nI+Zk6Z0+s8ISpvgFJWlpYv/5+6do2TTwl89UyW3dDPe48XOjVs+E21r5iRiZJi9bJoQtd6Gr5o61UxolPSOsdGqmODiCt+tL9YISwhIaG02gEPcnP9cP3v0TYa/eFW/fBHsp5cuk1r9xzVlNsbKjSA7xQDAHe4mIUSsuyGI9AUdfTobE5QyheSbM4BKyXVqsd+jDd15MjX6qUAX6sCfKxOPwN9rfL3yX7teO5rVaCPVYdPpem9DfsLPfardzdRi5iwfAHocvnDz2aU7JLgV9vUsJIWd024Btaxa1lSoNP3hF2JIzqlweplueKnahYrhFWrVq202gEPEx7ir3cHttT/rflL01fu1lfbErX1wAm9cncTNa/O8DmAksFnm7Kn26XZ7DqTkanU9KzsnxmZOpOeHX5SMzJ1JiNLuw6dLNK0uuuei5fdkFIzspexLj3Of5p7WaRAX+9z4ei8oBToa5X/ec8DfLKDUqCv1WWocoQrH2/5+3op0Ndb/t7ZU92KK8tu6OtdRwod0enWKOqq+90rzNU0Naw0NA4z9Hifttry96mr+t84uFasEHbs2DGlpqaqSpUqjrIdO3Zo2rRpOnPmjHr16qV77723xBsJ9/Dysmho+5pqVTNMjy7aon3Jqbrr/9ZrxM21NbxDrYv6jyEA5LocP9uUkWl3hKLU9JyfTuEpS2fSs6fe5W7LDlPZdc/meZ2anqnUEp5ud+yMzWV5YaNHAT7ZQSkwt56LMJW7n7fF0MZ136tzx5sUEuCvAF/PXYmNEZ1Lc7VMDSstV8OIDi5OsULYww8/rMjISL388suSpCNHjqhNmzaKiopSzZo1NWDAAGVlZalfv36l0li4R5OqZfXViDZ6+tPtWrrloGas2qMf/jiqGXdfq8plA9zdPACXodL+bFOW3cgORzmhKDVnet35o01n87zOV37evmfSs6frlfYXoQb6WhXo660yftmhp4yftwJ9rSrj660zGZlau+dooceY0itWLWqUV4CvtyNE+fsU7Xt6ispms2lvgBQR4l8inz8qbYzoXBqCBFDyihXCNmzYoHnz5jleL1iwQOXLl9fWrVvl7e2tadOm6Y033iCEXYGC/Lz1cu8malOngiZ8sl0/7T2uLjPW6IU7GqlLQ/7jBaDoCvtskySN+2S77HYpPStLZ9KzdOpshn454KVfl+/W2UwjOyjlBiQXASrNVprT8CRfby+VyQlMgb5WBfp5O16X8bOeC1N5trmqG5ATsgJ8rPK6wOhClt3QjS98U+i0ut4tohmlcIERHQCepFghLCkpSTExMY7X33zzjW677TZ5e2cf5tZbb9XUqVNLtoXwKLddW0VNo8tpxKKt+uXACQ19f7PuaVFVT3e/RgG+fKcYcDXKzLLrVFqmTp61KSXNlv3zbOZ5z3N+pmUq5axNfx+/8JLhknTsTIaGfbA5T6mX9Pe+YrXN6mVxjCRlByDncBR4/mjTeaNOAb7WnDDlnb3vecEq0Dd7CXCzMa3u0jGiA8BTFCuEhYSE6MSJE44FOjZu3KhBgwY5tlssFqWnpxe0O64Q1cLK6OMhrfRy/O+avfpPLdx4QD/tPa5X775WDaJC3N08wHSX++IShmHoTEbWubCUE5icA1R2sDr3/Ny2MxlZpdKumAplVKVcgMr4esvf26J/kg6qfu0aCvb3dQSkwJzPKOUNUrnb/LxLdhqeuzGtDgCuDMUKYS1atNCrr76qt956S0uXLtWpU6d00003Obb//vvvqlq1aok3Ep7Hx+qlJzrX0421KmjU4q3648hp9XrjB43tWk8DWle/ov7oAS7EUxaXyMi05xmJcg5SKS6C1Pn1skpgmfEyvlaFBvgoJMBHIf45PwO8s8v8fRzbEk+c1fT43ws93pTbGjpGLWw2m5YtO6CucXUui88glSam1QHA5a9YIezZZ5/VLbfcovfee0+ZmZkaN26cypUr59i+aNEitWvXrsQbCc91Q60K+t+jbfT4x7/q69+OaNIXO7V2z1G9dGcjhQX5ubt5QKkqycUl7HZDp9Iz84w85R99Opk3XOWEqZL4DJSP1eIITCE5gSn7tfd5z3PDlLdTsArx9y7yiqlZdkMfbNxf6GebWsTwdRgFYVodAFzeihXCmjRpol27dmndunWKiIhQy5YtnbbffffdatCgQYk2EJ4vLMhPb/dvrgXr9+m5Zbv0zW9H1PmVtfrvXU10Y+0K7m4eUCqKtLjE0m06k56p0+lZTuHqpItwdSo9s0SWKQ/29z4vSOUfhXIVoHLrlPQKegXhs00AgKtdsUKYJFWsWFE9e/Z0ua1bt26X3CBcniwWi/q3rq4WMeX1yMIt+uPIafWb+6MebFtDj3WsK19vvlMMl7fMLLsOn0rXoRNndejEWW34M7nwxSVSbXrso1+LdR4/b6884cjbaYpfaJ4pfueHqCB/78smuPDZJgDA1axYIWzBggVFqnffffddVGNw+asfGaIvht+oZ7/aqQ9+3K//W/2X1v+ZrFfvvlbVK5Rxd/MAlwzDUMrZTB3MCViHTp7VgeQz2vS7lxYc3KjEk2lKSknTxXxsqk54kGpVCso3dS8kzyhUaICPgv295e9z9awyymebAABXq2KFsAEDBigoKEje3t4yCpg3Y7FYCGFXuQBfq6bc1lBta1fQE0u26de/T6rbq2v1bK9Y3d60irubh6tQemaWkk6m6eCJs0o8keYIWgdzn584q1SXK/x5ScknHK98rBZFhPorKjRAvlYvrf2j8C/OnXRrLJ/duQA+2wQAuBoVK4TVr19fhw8fVt++fTVw4EA1atSotNqFK0Dn2Eg1qlJWIxdv1caEYxr94S9a8/s/erZXrIL9r+7VzVByDMNQ8pkMR5jKDVaJ54Wsf04V7aszwsr4KqpsgKLK+is82E8nExN08/XXqmpYkCqXDVCFID/Hl+kW9YtzWVwCAADkVawQtmPHDv3444+aO3eu2rZtq1q1amnQoEHq06ePQkL4fijkF1U2QAsfuF5vfPuHXvl6jz7dekib95/QK3c30bXR5Qo/AK56ZzOydOjk2XwhKztoZY9uZWQWvjKgn7eXKpcNcISsqNznoedenz8VMHtJ9L/UJTbC5ZLoLC4BAAAuVrEX5mjZsqVatmypGTNm6KOPPtK8efM0ZswY9erVS3PnzpWfH8uSw5nVy6IRN9fWDbXCNGLhVu0/lqp/zV6v0Z3qaEjbmo6RBbif2V86nGU39M+p9Oxpgo6glXbus1knzup4qq3Q41gsUqVgv/OC1bmQlRu8ygX6lPjKfywuAQAALkaxQ1iugIAA3XfffapevbomTpyoRYsW6fXXXyeEoUDNqpXXskfbaNwn2/TVr4l6cflufb/nqP7bu4nCQ/zd3byrXml86fCpNJsO5YxcHcwzenXoxFklnUxTZhFWuwjy83YavaqcM5oVGZr9PDzE320rcLK4BAAAKK6LCmEHDx7UO++8o3nz5unMmTPq27evZs2a5fTFzYAroQE+ev2ea9WudkVN/HyH1v2ZrM4z1uilOxvrlgbh7m7eVetivnTYlmXX4ZS0fCErdzTr0MmzOpWWWei5rV4WRYT4q3LZAEU6Ba1zz0M8/DOELC4BAACKo1gh7MMPP9S8efO0evVqxcXFafr06erWrZus1qtnSWVcOovForuuq6pm1cvpkQ+2aGdiigYv+Fn9W1XT2K71r6oluj1BUb50+PGPf9WmfceVeDLNEbKOnCraku1lA31yPnflHKxyR7YqBfszagQAAK4qxQphd999t6KjozVq1CiFh4dr7969euONN/LVGzFiRIk1EFeumhWD9MnDrfXi8t2a832C3lm/Tz8mHNNr91yr2uHB7m7eVSN+Z1KhXzqckpapt9Ym5Cv3tXo5wlT21MDzQ1Z20Ar0vehZzwAAAFekYv11FB0dLYvFog8++KDAOhaLhRCGIvPztuqp7g3UpnYFjfnoF/2WdErdX/teT3VvoD4to0t8IYWrmS3Lrj//Oa1diSn6LfGUdiam6LekU0Vevr193YpqU7ui06IXYWV8WVgFAACgmIoVwvbu3VtonYMHD15sW3AVa1+3kpY92kaPffiL1u45qgmfbtfaPf/ohTsaqWygr7ubd9lJPp2uXYmntCsxRbuSUrQr8ZT+OHJKtqwizB8swENta/K5JwAAgBJQYvOEkpKSNGXKFL311ls6e/ZsSR0WV5FKwf565/4WmvN9gl5c8ZtW7DisX/9eq//2bqLra/DHvyu2LLv++udMdthKTNGupOzgVdDoVrCft+pHhqheZLDqR4aofmSIalYso07/XcOXDgMAAJikWCHsxIkTevjhh7Vy5Ur5+PjoySef1PDhw/XMM89o2rRpuuaaazR37tzSaiuuAl5eFj3QtoaurxGmEYu2KOHoGd371gYN71BLI26uLW+re5Yh9wTJp9P1W07I2pkzpfCPI6eVkZX/i4otFql6WBnVjwxWvYiQnMAVrMplA1xO8eRLhwEAAMxTrBA2btw4rVmzRv3799fy5cs1atQoLV++XGlpafrf//6ndu3alVY7cZVpWCVUXz5yo575fIc+2vS3Xv3mD/3wZ7Jm9G6iquUD3d28UmXLsuuv5FP6LSk7bO1KPKXfElN05AKjW7kjW9mBK1h1I4KLtSAGXzoMAABgnmKFsK+++krz5s3TLbfcomHDhqlWrVqqU6eOZsyYUUrNw9WsjJ+3XvpXY7WpU1Hjl27Tpn3H1fXVtZpyW0P1aBzl7uaViGNnMhxTCXccOqmNu60as/Frl5/dyh3dqheRG7iyf1Yp53p0q7j40mEAAABzFCuEHTp0SA0aNJAk1ahRQ/7+/ho8eHCpNAzIdWvjKF1btaxGLNqiLftP6JGFW7Tm93/0zK3XqIzf5bH8uS3LroSjuZ/dOuUIXvlHt7InBAb5eTtCVu5nuOqGB5f69fKlwwAAAKWvWH/R2e12+fj4OF5brVaVKVOmxBsF5FW1fKA+fKiVXlm1R29894c+2vS3Nu07rlfvuVaxlUPd3Twnx85k6Lfcz23lfIZrz2HXn92SpOphgaoXEaI64WWUevB33dutnWIqhrA8PwAAwBWqWCHMMAwNGDBAfn5+kqS0tDQNGTIkXxBbunRpybUQyOFj9dKYuLq6oVYFjVq8VX8dPaPbZv6gJzrX08AbYkz/vqrMLLv+yjO69VtSig6nuP7sVu7o1vkrE54/umWz2bRs2W5VLRdIAAMAALiCFSuE9e/f3+l13759S7QxQFG0qhmm/z3aRk8s+VUrdx7Wf77apbV7jmravxqrYnD2/yDIshsl+tmm47mf3Uo6F7Z+P3xaGZmuR7eqhQWqfsS5peAbRIaoctkAvtgYAAAAxQth8+bNK612AMVSroyv/q9fM733437958udWv37P+ryyhpNv6uJzmZk5lvlL7KIq/xl5nx26/yphLsSCx7dKuNrVb2c5d9zl4KvGxGsoMvks2oAAAAwH38p4rJlsVjU7/pqalG9vEYs3KLdh0+p/9yNLusmnUzT0Pc2a1bfpo4gdvxMhnYlnVsCflcho1vR5QNV/7yl4BvkrEzI6BYAAACKgxCGy17diGB9NvwG/eernXpvw36XdXIXfB/z0S9atHG/fks6raSUNJd1y/haVTd3GfjIEDWIDFbdiBBGtwAAAFAi+KsSVwR/H6u6NYwqMITlOp2epe9+P+p4HV0+0Gkp+PqRwapaLpDRLQAAAJQaQhiuGEdOuR7Zyutfzavo7uuqqk54sIL9fQrfAQAAAChBhDBcMSoF+xep3u3XVlGzauVLuTUAAACAa17ubgBQUlrElFdkqL8KmkhoUfYqiS1iCGAAAABwH0IYrhhWL4sm9mggSfmCWO7riT0aXNL3hQEAAACXihCGK0rn2EjN6ttUEaHOUxMjQv2dlqcHAAAA3IXPhOGK0zk2Uh0bRGhjwjEdOZWmSsHZUxAZAQMAAIAnIIThimT1sqhVzTB3NwMAAADIh+mIAAAAAGAiQhgAAAAAmIgQBgAAAAAmIoQBAAAAgIkIYQAAAABgIkIYAAAAAJjI7SFs5syZiomJkb+/v5o1a6a1a9desP7q1avVrFkz+fv7q0aNGpo9e3aBdRctWiSLxaJevXqVcKsBAAAA4OK4NYQtXrxYI0eO1Pjx47Vlyxa1adNGXbp00f79+13WT0hIUNeuXdWmTRtt2bJF48aN04gRI7RkyZJ8dfft26cxY8aoTZs2pX0ZAAAAAFBkbg1hL7/8sgYNGqTBgwerfv36mjFjhqpWrapZs2a5rD979mxFR0drxowZql+/vgYPHqyBAwdq2rRpTvWysrLUp08fTZo0STVq1DDjUgAAAACgSLzddeKMjAxt2rRJTz75pFN5p06dtG7dOpf7rF+/Xp06dXIqi4uL05w5c2Sz2eTj4yNJmjx5sipWrKhBgwYVOr1RktLT05Wenu54nZKSIkmy2Wyy2WzFuq7LRe51XanXdzmiTzwL/eFZ6A/PQn94HvrEs9AfnuVS+6M0+tFtIezo0aPKyspSeHi4U3l4eLiSkpJc7pOUlOSyfmZmpo4eParIyEj98MMPmjNnjrZu3VrktkydOlWTJk3KV75y5UoFBgYW+TiXo/j4eHc3AXnQJ56F/vAs9IdnoT88D33iWegPz3Kx/ZGamlrCLXFjCMtlsVicXhuGka+ssPq55adOnVLfvn311ltvqUKFCkVuw9ixYzV69GjH65SUFFWtWlWdOnVSSEhIkY9zObHZbIqPj1fHjh0dI4hwL/rEs9AfnoX+8Cz0h+ehTzwL/eFZLrU/cmfJlSS3hbAKFSrIarXmG/U6cuRIvtGuXBERES7re3t7KywsTDt27NDevXvVo0cPx3a73S5J8vb21u7du1WzZs18x/Xz85Ofn1++ch8fnyv+jXM1XOPlhj7xLPSHZ6E/PAv94XnoE89Cf3iWi+2P0uhDty3M4evrq2bNmuUbFoyPj1fr1q1d7tOqVat89VeuXKnmzZvLx8dH9erV07Zt27R161bH49Zbb1WHDh20detWVa1atdSuBwAAAACKwq3TEUePHq1+/fqpefPmatWqld58803t379fQ4YMkZQ9TfDgwYNasGCBJGnIkCF6/fXXNXr0aD3wwANav3695syZo4ULF0qS/P39FRsb63SOsmXLSlK+cgAAAABwB7eGsN69eys5OVmTJ09WYmKiYmNjtWzZMlWrVk2SlJiY6PSdYTExMVq2bJlGjRqlN954Q1FRUXr11Vd1xx13uOsSAAAAAKBY3L4wx7BhwzRs2DCX2+bPn5+vrF27dtq8eXORj+/qGAAAAADgLm79smYAAAAAuNoQwgAAAADARIQwAAAAADARIQwAAAAATEQIAwAAAAATEcIAAAAAwESEMAAAAAAwESEMAAAAAExECAMAAAAAExHCAAAAAMBEhDAAAAAAMBEhDAAAAABMRAgDAAAAABMRwgAAAADARIQwAAAAADARIQwAAAAATEQIAwAAAAATEcIAAAAAwESEMAAAAAAwESEMAAAAAExECAMAAAAAExHCAAAAAMBEhDAAAAAAMBEhDAAAAABMRAgDAAAAABMRwgAAAADARIQwAAAAADARIQwAAAAATEQIAwAAAAATEcIAAAAAwESEMAAAAAAwESEMAAAAAExECAMAAAAAExHCAAAAAMBEhDAAAAAAMBEhDAAAAABMRAgDAAAAABMRwgAAAADARIQwAAAAADARIQwAAAAATEQIAwAAAAATEcIAAAAAwESEMAAAAAAwESEMAAAAAExECAMAAAAAExHCAAAAAMBEhDAAAAAAMBEhDAAAAABMRAgDAAAAABMRwgAAAADARIQwAAAAADARIQwAAAAATEQIAwAAAAATEcIAAAAAwESEMAAAAAAwESEMAAAAAExECAMAAAAAExHCAAAAAMBEhDAAAAAAMBEhDAAAAABMRAgDAAAAABMRwgAAAADARIQwAAAAADARIQwAAAAATEQIAwAAAAATEcIAAAAAwESEMAAAAAAwESEMAAAAAExECAMAAAAAExHCAAAAAMBEhDAAAAAAMBEhDAAAAABMRAgDAAAAABMRwgAAAADARIQwAAAAADARIQwAAAAATEQIAwAAAAATEcIAAAAAwESEMAAAAAAwESEMAAAAAExECAMAAAAAE7k9hM2cOVMxMTHy9/dXs2bNtHbt2gvWX716tZo1ayZ/f3/VqFFDs2fPdtr+1ltvqU2bNipXrpzKlSunW265RRs3bizNSwAAAACAInNrCFu8eLFGjhyp8ePHa8uWLWrTpo26dOmi/fv3u6yfkJCgrl27qk2bNtqyZYvGjRunESNGaMmSJY463333ne655x59++23Wr9+vaKjo9WpUycdPHjQrMsCAAAAgAK5NYS9/PLLGjRokAYPHqz69etrxowZqlq1qmbNmuWy/uzZsxUdHa0ZM2aofv36Gjx4sAYOHKhp06Y56rz//vsaNmyYmjRponr16umtt96S3W7X119/bdZlAQAAAECBvN114oyMDG3atElPPvmkU3mnTp20bt06l/usX79enTp1ciqLi4vTnDlzZLPZ5OPjk2+f1NRU2Ww2lS9fvsC2pKenKz093fE6JSVFkmSz2WSz2Yp8TZeT3Ou6Uq/vckSfeBb6w7PQH56F/vA89IlnoT88y6X2R2n0o9tC2NGjR5WVlaXw8HCn8vDwcCUlJbncJykpyWX9zMxMHT16VJGRkfn2efLJJ1W5cmXdcsstBbZl6tSpmjRpUr7ylStXKjAwsCiXc9mKj493dxOQB33iWegPz0J/eBb6w/PQJ56F/vAsF9sfqampJdwSN4awXBaLxem1YRj5ygqr76pckl588UUtXLhQ3333nfz9/Qs85tixYzV69GjH65SUFFWtWlWdOnVSSEhIka7jcmOz2RQfH6+OHTu6HEGE+egTz0J/eBb6w7PQH56HPvEs9IdnudT+yJ0lV5LcFsIqVKggq9Wab9TryJEj+Ua7ckVERLis7+3trbCwMKfyadOmacqUKVq1apUaNWp0wbb4+fnJz88vX7mPj88V/8a5Gq7xckOfeBb6w7PQH56F/vA89IlnoT88y8X2R2n0odsW5vD19VWzZs3yDQvGx8erdevWLvdp1apVvvorV65U8+bNnW7OSy+9pGeffVbLly9X8+bNS77xAAAAAHCR3Lo64ujRo/X2229r7ty52rVrl0aNGqX9+/dryJAhkrKnCd53332O+kOGDNG+ffs0evRo7dq1S3PnztWcOXM0ZswYR50XX3xREyZM0Ny5c1W9enUlJSUpKSlJp0+fNv36AAAAACAvt34mrHfv3kpOTtbkyZOVmJio2NhYLVu2TNWqVZMkJSYmOn1nWExMjJYtW6ZRo0bpjTfeUFRUlF599VXdcccdjjozZ85URkaG7rzzTqdzTZw4Uc8884wp1wUAAAAABXH7whzDhg3TsGHDXG6bP39+vrJ27dpp8+bNBR5v7969JdQyAAAAACh5bp2OCAAAAABXG0IYAAAAAJiIEAYAAAAAJiKEAQAAAICJCGEAAAAAYCJCGAAAAACYiBAGAAAAACYihAEAAACAiQhhAAAAAGAiQhgAAAAAmIgQBgAAAAAmIoQBAAAAgIkIYQAAAABgIkIYAAAAAJiIEAYAAAAAJiKEAQAAAICJCGEAAAAAYCJCGAAAAACYiBAGAAAAACYihAEAAACAiQhhAAAAAGAiQhgAAAAAmIgQBgAAAAAmIoQBAAAAgIkIYQAAAABgIkIYAAAAAJiIEAYAAAAAJiKEAQAAAICJCGEAAAAAYCJCGAAAAACYiBAGAAAAACYihAEAAACAiQhhAAAAAGAiQhgAAAAAmIgQBgAAAAAmIoQBAAAAgIkIYQAAAABgIkIYAAAAAJiIEAYAAAAAJiKEAQAAAICJCGEAAAAAYCJCGAAAAACYiBAGAAAAACYihAEAAACAiQhhAAAAAGAiQhgAAAAAmIgQBgAAAAAmIoQBAAAAgIkIYQAAAABgIkIYAAAAAJiIEAYAAAAAJiKEAQAAAICJCGEAAAAAYCJCGAAAAACYiBAGAAAAACYihAEAAACAiQhhAAAAAGAiQhgAAAAAmIgQBgAAAAAmIoQBAAAAgIkIYQAAAABgIkIYAAAAAJiIEAYAAAAAJiKEAQAAAICJCGEAAAAAYCJCGAAAAACYiBAGAAAAACYihAEAAACAiQhhAAAAAGAiQhgAAAAAmIgQBgAAAAAmIoQBAAAAgIkIYQAAAABgIkIYAAAAAJiIEAYAAAAAJiKEAQAAAICJCGEAAAAAYCJCGAAAAACYiBAGAAAAACYihAEAAACAiQhhAAAAAGAiQhgAAAAAmMjtIWzmzJmKiYmRv7+/mjVrprVr116w/urVq9WsWTP5+/urRo0amj17dr46S5YsUYMGDeTn56cGDRrok08+Ka3mAwAAAECxuDWELV68WCNHjtT48eO1ZcsWtWnTRl26dNH+/ftd1k9ISFDXrl3Vpk0bbdmyRePGjdOIESO0ZMkSR53169erd+/e6tevn3755Rf169dPd911l3788UezLgsAAAAACuTWEPbyyy9r0KBBGjx4sOrXr68ZM2aoatWqmjVrlsv6s2fPVnR0tGbMmKH69etr8ODBGjhwoKZNm+aoM2PGDHXs2FFjx45VvXr1NHbsWN18882aMWOGSVcFAAAAAAXzdteJMzIytGnTJj355JNO5Z06ddK6detc7rN+/Xp16tTJqSwuLk5z5syRzWaTj4+P1q9fr1GjRuWrc6EQlp6ervT0dMfrkydPSpKOHTsmm81WnMu6bNhsNqWmpio5OVk+Pj7ubg5En3ga+sOz0B+ehf7wPPSJZ6E/PMul9sepU6ckSYZhlFib3BbCjh49qqysLIWHhzuVh4eHKykpyeU+SUlJLutnZmbq6NGjioyMLLBOQceUpKlTp2rSpEn5ymNiYop6OQAAAACuYKdOnVJoaGiJHMttISyXxWJxem0YRr6ywurnLS/uMceOHavRo0c7Xtvtdh07dkxhYWEX3O9ylpKSoqpVq+rAgQMKCQlxd3Mg+sTT0B+ehf7wLPSH56FPPAv94VkutT8Mw9CpU6cUFRVVYm1yWwirUKGCrFZrvhGqI0eO5BvJyhUREeGyvre3t8LCwi5Yp6BjSpKfn5/8/PycysqWLVvUS7mshYSE8I+Dh6FPPAv94VnoD89Cf3ge+sSz0B+e5VL6o6RGwHK5bWEOX19fNWvWTPHx8U7l8fHxat26tct9WrVqla/+ypUr1bx5c8f8zoLqFHRMAAAAADCTW6cjjh49Wv369VPz5s3VqlUrvfnmm9q/f7+GDBkiKXua4MGDB7VgwQJJ0pAhQ/T6669r9OjReuCBB7R+/XrNmTNHCxcudBzz0UcfVdu2bfXCCy+oZ8+e+uyzz7Rq1Sp9//33brlGAAAAADifW0NY7969lZycrMmTJysxMVGxsbFatmyZqlWrJklKTEx0+s6wmJgYLVu2TKNGjdIbb7yhqKgovfrqq7rjjjscdVq3bq1FixZpwoQJeuqpp1SzZk0tXrxYLVu2NP36PJmfn58mTpyYbxom3Ic+8Sz0h2ehPzwL/eF56BPPQn94Fk/sD4tRkmstAgAAAAAuyK1f1gwAAAAAVxtCGAAAAACYiBAGAAAAACYihAEAAACAiQhhl4lnnnlGFovF6REREeHYbhiGnnnmGUVFRSkgIEDt27fXjh07nI6Rnp6uRx55RBUqVFCZMmV066236u+//3aqc/z4cfXr10+hoaEKDQ1Vv379dOLECac6+/fvV48ePVSmTBlVqFBBI0aMUEZGRqldu6dYs2aNevTooaioKFksFn366adO2z2tD7Zt26Z27dopICBAlStX1uTJk3UlrcNTWH8MGDAg33vm+uuvd6pDf5ScqVOn6rrrrlNwcLAqVaqkXr16affu3U51eI+Ypyj9wXvEPLNmzVKjRo0cXxTbqlUr/e9//3Ns571hrsL6g/eGe02dOlUWi0UjR450lF2R7xEDl4WJEyca11xzjZGYmOh4HDlyxLH9+eefN4KDg40lS5YY27ZtM3r37m1ERkYaKSkpjjpDhgwxKleubMTHxxubN282OnToYDRu3NjIzMx01OncubMRGxtrrFu3zli3bp0RGxtrdO/e3bE9MzPTiI2NNTp06GBs3rzZiI+PN6Kioozhw4ebcyPcaNmyZcb48eONJUuWGJKMTz75xGm7J/XByZMnjfDwcOPuu+82tm3bZixZssQIDg42pk2bVno3yGSF9Uf//v2Nzp07O71nkpOTnerQHyUnLi7OmDdvnrF9+3Zj69atRrdu3Yzo6Gjj9OnTjjq8R8xTlP7gPWKezz//3Pjqq6+M3bt3G7t37zbGjRtn+Pj4GNu3bzcMg/eG2QrrD94b7rNx40ajevXqRqNGjYxHH33UUX4lvkcIYZeJiRMnGo0bN3a5zW63GxEREcbzzz/vKEtLSzNCQ0ON2bNnG4ZhGCdOnDB8fHyMRYsWOeocPHjQ8PLyMpYvX24YhmHs3LnTkGRs2LDBUWf9+vWGJOO3334zDCP7D18vLy/j4MGDjjoLFy40/Pz8jJMnT5bY9Xq6vH/0e1ofzJw50wgNDTXS0tIcdaZOnWpERUUZdru9BO+EZygohPXs2bPAfeiP0nXkyBFDkrF69WrDMHiPuFve/jAM3iPuVq5cOePtt9/mveEhcvvDMHhvuMupU6eM2rVrG/Hx8Ua7du0cIexKfY8wHfEysmfPHkVFRSkmJkZ33323/vrrL0lSQkKCkpKS1KlTJ0ddPz8/tWvXTuvWrZMkbdq0STabzalOVFSUYmNjHXXWr1+v0NBQpy+2vv766xUaGupUJzY2VlFRUY46cXFxSk9P16ZNm0rv4j2cp/XB+vXr1a5dO6cvJYyLi9OhQ4e0d+/ekr8BHuq7775TpUqVVKdOHT3wwAM6cuSIYxv9UbpOnjwpSSpfvrwk3iPulrc/cvEeMV9WVpYWLVqkM2fOqFWrVrw33Cxvf+TivWG+hx9+WN26ddMtt9ziVH6lvkcIYZeJli1basGCBVqxYoXeeustJSUlqXXr1kpOTlZSUpIkKTw83Gmf8PBwx7akpCT5+vqqXLlyF6xTqVKlfOeuVKmSU5285ylXrpx8fX0dda5GntYHrurkvr5a+qlLly56//339c0332j69On66aefdNNNNyk9PV0S/VGaDMPQ6NGjdeONNyo2NlYS7xF3ctUfEu8Rs23btk1BQUHy8/PTkCFD9Mknn6hBgwa8N9ykoP6QeG+4w6JFi7R582ZNnTo137Yr9T3iXeSacKsuXbo4njds2FCtWrVSzZo19c477zg+LGqxWJz2MQwjX1leeeu4qn8xda5WntQHrtpS0L5Xot69ezuex8bGqnnz5qpWrZq++uor3X777QXuR39cuuHDh+vXX3/V999/n28b7xHzFdQfvEfMVbduXW3dulUnTpzQkiVL1L9/f61evdqxnfeGuQrqjwYNGvDeMNmBAwf06KOPauXKlfL39y+w3pX2HmEk7DJVpkwZNWzYUHv27HGskpg3fR85csSRzCMiIpSRkaHjx49fsM7hw4fzneuff/5xqpP3PMePH5fNZsv3fwWuJp7WB67q5E6luFr7KTIyUtWqVdOePXsk0R+l5ZFHHtHnn3+ub7/9VlWqVHGU8x5xj4L6wxXeI6XL19dXtWrVUvPmzTV16lQ1btxYr7zyCu8NNymoP1zhvVG6Nm3apCNHjqhZs2by9vaWt7e3Vq9erVdffVXe3t4FjjJd7u8RQthlKj09Xbt27VJkZKRiYmIUERGh+Ph4x/aMjAytXr1arVu3liQ1a9ZMPj4+TnUSExO1fft2R51WrVrp5MmT2rhxo6POjz/+qJMnTzrV2b59uxITEx11Vq5cKT8/PzVr1qxUr9mTeVoftGrVSmvWrHFaUnXlypWKiopS9erVS/4GXAaSk5N14MABRUZGSqI/SpphGBo+fLiWLl2qb775RjExMU7beY+Yq7D+cIX3iLkMw1B6ejrvDQ+R2x+u8N4oXTfffLO2bdumrVu3Oh7NmzdXnz59tHXrVtWoUePKfI8UeQkPuNVjjz1mfPfdd8Zff/1lbNiwwejevbsRHBxs7N271zCM7KU7Q0NDjaVLlxrbtm0z7rnnHpdLd1apUsVYtWqVsXnzZuOmm25yuXRno0aNjPXr1xvr1683GjZs6HLpzptvvtnYvHmzsWrVKqNKlSpXxRL1p06dMrZs2WJs2bLFkGS8/PLLxpYtW4x9+/YZhuFZfXDixAkjPDzcuOeee4xt27YZS5cuNUJCQq6oJW0v1B+nTp0yHnvsMWPdunVGQkKC8e233xqtWrUyKleuTH+UkqFDhxqhoaHGd99957Ssc2pqqqMO7xHzFNYfvEfMNXbsWGPNmjVGQkKC8euvvxrjxo0zvLy8jJUrVxqGwXvDbBfqD94bnuH81REN48p8jxDCLhO534fg4+NjREVFGbfffruxY8cOx3a73W5MnDjRiIiIMPz8/Iy2bdsa27ZtczrG2bNnjeHDhxvly5c3AgICjO7duxv79+93qpOcnGz06dPHCA4ONoKDg40+ffoYx48fd6qzb98+o1u3bkZAQIBRvnx5Y/jw4U7LdF6pvv32W0NSvkf//v0Nw/C8Pvj111+NNm3aGH5+fkZERITxzDPPXFHL2V6oP1JTU41OnToZFStWNHx8fIzo6Gijf//++e41/VFyXPWFJGPevHmOOrxHzFNYf/AeMdfAgQONatWqGb6+vkbFihWNm2++2RHADIP3htku1B+8NzxD3hB2Jb5HLIZxBX/lNgAAAAB4GD4TBgAAAAAmIoQBAAAAgIkIYQAAAABgIkIYAAAAAJiIEAYAAAAAJiKEAQAAAICJCGEAAAAAYCJCGAAAAACYiBAGAPAo7du318iRI4tcf+/evbJYLNq6dWuptckTzZ8/X2XLlnV3MwAAF4EQBgC4KBaL5YKPAQMGXNRxly5dqmeffbbI9atWrarExETFxsZe1PmKY8mSJWrZsqVCQ0MVHBysa665Ro899lixjmGxWPTpp58WWu/bb79Vhw4dVL58eQUGBqp27drq37+/MjMzJUm9e/fW77//fjGXAQBwM293NwAAcHlKTEx0PF+8eLGefvpp7d6921EWEBDgVN9ms8nHx6fQ45YvX75Y7bBarYqIiCjWPhdj1apVuvvuuzVlyhTdeuutslgs2rlzp77++usSP9eOHTvUpUsXjRgxQq+99poCAgK0Z88effzxx7Lb7ZKy72/eewwAuDwwEgYAuCgRERGOR2hoqCwWi+N1WlqaypYtqw8//FDt27eXv7+/3nvvPSUnJ+uee+5RlSpVFBgYqIYNG2rhwoVOx807HbF69eqaMmWKBg4cqODgYEVHR+vNN990bM87HfG7776TxWLR119/rebNmyswMFCtW7d2CoiS9J///EeVKlVScHCwBg8erCeffFJNmjQp8Hq//PJL3Xjjjfr3v/+tunXrqk6dOurVq5dee+01p3pffPGFmjVrJn9/f9WoUUOTJk1yjF5Vr15dknTbbbfJYrE4XucVHx+vyMhIvfjii4qNjVXNmjXVuXNnvf322/L19ZWUfzpi9erVXY5I5jp48KB69+6tcuXKKSwsTD179tTevXsLvF4AQOkhhAEASs0TTzyhESNGaNeuXYqLi1NaWpqaNWumL7/8Utu3b9eDDz6ofv366ccff7zgcaZPn67mzZtry5YtGjZsmIYOHarffvvtgvuMHz9e06dP188//yxvb28NHDjQse3999/Xc889pxdeeEGbNm1SdHS0Zs2adcHjRUREaMeOHdq+fXuBdVasWKG+fftqxIgR2rlzp/7v//5P8+fP13PPPSdJ+umnnyRJ8+bNU2JiouO1q3MlJiZqzZo1F2zT+X766SclJiYqMTFRf//9t66//nq1adNGkpSamqoOHTooKChIa9as0ffff6+goCB17txZGRkZRT4HAKCEGAAAXKJ58+YZoaGhjtcJCQmGJGPGjBmF7tu1a1fjsccec7xu166d8eijjzpeV6tWzejbt6/jtd1uNypVqmTMmjXL6VxbtmwxDMMwvv32W0OSsWrVKsc+X331lSHJOHv2rGEYhtGyZUvj4YcfdmrHDTfcYDRu3LjAdp4+fdro2rWrIcmoVq2a0bt3b2POnDlGWlqao06bNm2MKVOmOO337rvvGpGRkY7XkoxPPvnkgvckMzPTGDBggCHJiIiIMHr16mW89tprxsmTJx118t7z840YMcKoVq2aceTIEcMwDGPOnDlG3bp1Dbvd7qiTnp5uBAQEGCtWrLhgWwAAJY+RMABAqWnevLnT66ysLD333HNq1KiRwsLCFBQUpJUrV2r//v0XPE6jRo0cz3OnPR45cqTI+0RGRkqSY5/du3erRYsWTvXzvs6rTJky+uqrr/THH39owoQJCgoK0mOPPaYWLVooNTVVkrRp0yZNnjxZQUFBjscDDzygxMRER52isFqtmjdvnv7++2+9+OKLioqK0nPPPadrrrnG6bN4rrz55puaM2eOPvvsM1WsWNHRrj/++EPBwcGOdpUvX15paWn6888/i9wuAEDJYGEOAECpKVOmjNPr6dOn67///a9mzJihhg0bqkyZMho5cmShU+LyLuhhsVgcC1QUZZ/cz0adv8/5n5eSJMMwLni8XDVr1lTNmjU1ePBgjR8/XnXq1NHixYt1//33y263a9KkSbr99tvz7efv71+k45+vcuXK6tevn/r166f//Oc/qlOnjmbPnq1Jkya5rP/dd9/pkUce0cKFC9W4cWNHud1uV7NmzfT+++/n2yc3qAEAzEMIAwCYZu3aterZs6f69u0rKTsc7NmzR/Xr1ze1HXXr1tXGjRvVr18/R9nPP/9c7ONUr15dgYGBOnPmjCSpadOm2r17t2rVqlXgPj4+PsrKyir2ucqVK6fIyEjHufL6448/dMcdd2jcuHH5QmDTpk21ePFiVapUSSEhIcU+NwCgZBHCAACmqVWrlpYsWaJ169apXLlyevnll5WUlGR6CHvkkUf0wAMPqHnz5mrdurUWL16sX3/9VTVq1Chwn2eeeUapqanq2rWrqlWrphMnTujVV1+VzWZTx44dJUlPP/20unfvrqpVq+pf//qXvLy89Ouvv2rbtm36z3/+Iyk7uH399de64YYb5Ofnp3LlyuU71//93/9p69atuu2221SzZk2lpaVpwYIF2rFjR77VGCXp7Nmz6tGjh5o0aaIHH3xQSUlJjm0RERHq06ePXnrpJfXs2VOTJ09WlSpVtH//fi1dulT//ve/VaVKlUu9pQCAYuAzYQAA0zz11FNq2rSp4uLi1L59e0VERKhXr16mt6NPnz4aO3asxowZo6ZNmyohIUEDBgy44JTBdu3a6a+//tJ9992nevXqqUuXLkpKStLKlStVt25dSVJcXJy+/PJLxcfH67rrrtP111+vl19+WdWqVXMcZ/r06YqPj1fVqlV17bXXujxXixYtdPr0aQ0ZMkTXXHON2rVrpw0bNujTTz9Vu3bt8tU/fPiwfvvtN33zzTeKiopSZGSk4yFJgYGBWrNmjaKjo3X77berfv36GjhwoM6ePcvIGAC4gcUo6iR4AACuYB07dlRERITeffdddzcFAHCFYzoiAOCqk5qaqtmzZysuLk5Wq1ULFy7UqlWrFB8f7+6mAQCuAoyEAQCuOrmfodq8ebPS09NVt25dTZgwweWqhgAAlDRCGAAAAACYiIU5AAAAAMBEhDAAAAAAMBEhDAAAAABMRAgDAAAAABMRwgAAAADARIQwAAAAADARIQwAAAAATEQIAwAAAAAT/T+riR9Z1qnyNgAAAABJRU5ErkJggg==",
      "text/plain": [
       "<Figure size 1000x600 with 1 Axes>"
      ]
     },
     "metadata": {},
     "output_type": "display_data"
    }
   ],
   "source": [
    "# Zoomed Plot\n",
    "plt.figure(figsize=(10, 6))\n",
    "plt.plot(train_sizes, train_rmsle, \"o-\", label=\"Train RMSLE\")\n",
    "plt.plot(train_sizes, val_rmsle, \"o-\", label=\"Validation RMSLE\")\n",
    "plt.xlabel(\"Training Set Size\")\n",
    "plt.ylabel(\"RMSLE\")\n",
    "plt.ylim(0,.10)\n",
    "plt.title(\"Learning Curve - CatBoost Regressor\")\n",
    "plt.legend()\n",
    "plt.grid(True)\n",
    "plt.show()"
   ]
  },
  {
   "cell_type": "markdown",
   "id": "7059006b",
   "metadata": {},
   "source": [
    "#### **4.5 Final Model**"
   ]
  },
  {
   "cell_type": "code",
   "execution_count": 8,
   "id": "b6c53c3b",
   "metadata": {},
   "outputs": [
    {
     "name": "stdout",
     "output_type": "stream",
     "text": [
      "0:\tlearn: 58.7497459\ttest: 58.7831374\tbest: 58.7831374 (0)\ttotal: 27.7ms\tremaining: 1m 9s\n",
      "100:\tlearn: 3.8395288\ttest: 3.7949303\tbest: 3.7949303 (100)\ttotal: 1.24s\tremaining: 29.4s\n",
      "200:\tlearn: 3.6593543\ttest: 3.6475668\tbest: 3.6475668 (200)\ttotal: 2.57s\tremaining: 29.4s\n",
      "300:\tlearn: 3.5981471\ttest: 3.6190551\tbest: 3.6190551 (300)\ttotal: 3.89s\tremaining: 28.4s\n",
      "400:\tlearn: 3.5529115\ttest: 3.6019400\tbest: 3.6019400 (400)\ttotal: 5.18s\tremaining: 27.1s\n",
      "500:\tlearn: 3.5129841\ttest: 3.5940333\tbest: 3.5940333 (500)\ttotal: 6.5s\tremaining: 25.9s\n",
      "600:\tlearn: 3.4780600\ttest: 3.5878486\tbest: 3.5877884 (599)\ttotal: 7.79s\tremaining: 24.6s\n",
      "700:\tlearn: 3.4456467\ttest: 3.5847093\tbest: 3.5846511 (697)\ttotal: 9.08s\tremaining: 23.3s\n",
      "800:\tlearn: 3.4172656\ttest: 3.5831622\tbest: 3.5830225 (799)\ttotal: 10.4s\tremaining: 22s\n",
      "bestTest = 3.582328617\n",
      "bestIteration = 825\n",
      "Shrink model to first 826 iterations.\n"
     ]
    }
   ],
   "source": [
    "# Split X_train into training and validation for early stopping\n",
    "X_train_sub, X_val, y_train_sub, y_val = train_test_split(\n",
    "    X_train, y_train, test_size=0.1, random_state=42\n",
    ")\n",
    "\n",
    "# Extract best hyperparameters and prepare CatBoost config\n",
    "cb_params = {k.replace(\"model__\", \"\"): v for k, v in best_params.items()}\n",
    "cb_params[\"task_type\"] = \"GPU\"\n",
    "cb_params[\"devices\"] = \"0\"\n",
    "cb_params[\"verbose\"] = 100  \n",
    "\n",
    "# Build preprocessing pipeline (without model)\n",
    "preprocessing_pipeline = Pipeline([\n",
    "    (\"feature_eng\", FeatureEngineering()),\n",
    "    (\"scaler\", StandardScaler())  \n",
    "])\n",
    "\n",
    "# Fit on training subset\n",
    "X_train_sub_processed = preprocessing_pipeline.fit_transform(X_train_sub)\n",
    "\n",
    "# Transform validation set with same pipeline\n",
    "X_val_processed = preprocessing_pipeline.transform(X_val)\n",
    "\n",
    "# Initialize CatBoostRegressor with early stopping\n",
    "final_catboost = CatBoostRegressor(**cb_params)\n",
    "\n",
    "# Fit CatBoost with early stopping using the processed data\n",
    "final_catboost.fit(\n",
    "    X_train_sub_processed,\n",
    "    y_train_sub,\n",
    "    eval_set=(X_val_processed, y_val),\n",
    "    early_stopping_rounds=50\n",
    ")\n",
    "\n",
    "# Create Final Pipeline\n",
    "final_pipeline = make_pipeline(preprocessing_pipeline, final_catboost)"
   ]
  },
  {
   "cell_type": "markdown",
   "id": "280dc68e",
   "metadata": {},
   "source": [
    "#### **4.6 Evaluate Model Performance**"
   ]
  },
  {
   "cell_type": "code",
   "execution_count": 9,
   "id": "b0ab2d45",
   "metadata": {},
   "outputs": [
    {
     "name": "stdout",
     "output_type": "stream",
     "text": [
      "Train RMSLE: 0.0567\n"
     ]
    }
   ],
   "source": [
    "# Predict on training subset\n",
    "y_train_pred = final_pipeline.predict(X_train_sub)\n",
    "\n",
    "# Calculate RMSE\n",
    "rmsle_train = rmsle(y_train_sub, y_train_pred)\n",
    "print(f\"Train RMSLE: {rmsle_train:.4f}\")"
   ]
  },
  {
   "cell_type": "code",
   "execution_count": 10,
   "id": "0b764701",
   "metadata": {},
   "outputs": [
    {
     "name": "stdout",
     "output_type": "stream",
     "text": [
      "Test RMSLE: 0.0587\n"
     ]
    }
   ],
   "source": [
    "y_pred = final_pipeline.predict(X_test)\n",
    "test_rmsle = rmsle(y_test, y_pred)\n",
    "print(f\"Test RMSLE: {test_rmsle:.4f}\")"
   ]
  },
  {
   "cell_type": "markdown",
   "id": "701457cc",
   "metadata": {},
   "source": [
    "#### **4.5 Kaggle Predictions**"
   ]
  },
  {
   "cell_type": "code",
   "execution_count": 11,
   "id": "e35beb54",
   "metadata": {},
   "outputs": [],
   "source": [
    "# Load Kaggle test cases\n",
    "kaggle_test = pd.read_csv(\"../Data/test.csv\")\n",
    "\n",
    "# Generate predictions\n",
    "kaggle_pred = final_pipeline.predict(kaggle_test) \n",
    "submission = pd.DataFrame({\"id\": kaggle_test[\"id\"],\n",
    "                           \"Calories\": kaggle_pred})\n",
    "\n",
    "# Save file\n",
    "submission.to_csv(\"submission.csv\", index=False)"
   ]
  },
  {
   "cell_type": "markdown",
   "id": "9337ff19",
   "metadata": {},
   "source": [
    "### **5. Save and Document Model**"
   ]
  },
  {
   "cell_type": "markdown",
   "id": "311afe91",
   "metadata": {},
   "source": [
    "#### **5.1 Save Final Model**"
   ]
  },
  {
   "cell_type": "code",
   "execution_count": 12,
   "id": "10ee247f",
   "metadata": {},
   "outputs": [
    {
     "data": {
      "text/plain": [
       "['../Model/final_pipeline.pkl']"
      ]
     },
     "execution_count": 12,
     "metadata": {},
     "output_type": "execute_result"
    }
   ],
   "source": [
    "# Save the final pipeline (preprocessing + CatBoost model)\n",
    "joblib.dump(final_pipeline, \"../Model/final_pipeline.pkl\")"
   ]
  },
  {
   "cell_type": "markdown",
   "id": "ca6ef0da",
   "metadata": {},
   "source": [
    "#### **5.2 Document Final Model**"
   ]
  },
  {
   "cell_type": "code",
   "execution_count": 13,
   "id": "4b9cf788",
   "metadata": {},
   "outputs": [],
   "source": [
    "report_data = {\n",
    "    \"model_type\": \"CatBoostRegressor\",\n",
    "    \"best_hyperparameters\": best_params,\n",
    "    \"evaluation_metrics\": {\n",
    "        \"train_rmsle\": rmsle_train,\n",
    "        \"test_rmsle\": test_rmsle\n",
    "    },\n",
    "    \"preprocessing_steps\": [\"FeatureEngineering\", \"StandardScaler\"]\n",
    "}\n",
    "\n",
    "with open(\"../Model Performance/model_report.json\", \"w\") as f:\n",
    "    json.dump(report_data, f, indent=4)"
   ]
  }
 ],
 "metadata": {
  "kernelspec": {
   "display_name": "calorie-env",
   "language": "python",
   "name": "python3"
  },
  "language_info": {
   "codemirror_mode": {
    "name": "ipython",
    "version": 3
   },
   "file_extension": ".py",
   "mimetype": "text/x-python",
   "name": "python",
   "nbconvert_exporter": "python",
   "pygments_lexer": "ipython3",
   "version": "3.10.14"
  }
 },
 "nbformat": 4,
 "nbformat_minor": 5
}
